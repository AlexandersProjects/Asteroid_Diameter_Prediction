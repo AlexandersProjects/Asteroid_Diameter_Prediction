{
 "cells": [
  {
   "cell_type": "code",
   "execution_count": 1,
   "metadata": {},
   "outputs": [],
   "source": [
    "import numpy as np\n",
    "import pandas as pd\n",
    "import matplotlib.pyplot as plt\n",
    "import seaborn as sns\n",
    "\n",
    "from sklearn.linear_model import LinearRegression as lr\n",
    "from sklearn.model_selection import train_test_split\n",
    "from sklearn.preprocessing import PolynomialFeatures\n",
    "from sklearn.pipeline import make_pipeline, Pipeline\n",
    "from sklearn.tree import DecisionTreeClassifier\n",
    "from sklearn.tree import DecisionTreeRegressor\n",
    "from sklearn.ensemble import RandomForestRegressor\n",
    "from sklearn.model_selection import GridSearchCV\n",
    "from sklearn.linear_model import Ridge\n",
    "from sklearn.model_selection import cross_val_score\n",
    "\n",
    "pd.set_option('display.max_columns', None)"
   ]
  },
  {
   "cell_type": "markdown",
   "metadata": {},
   "source": [
    "# Daten importieren"
   ]
  },
  {
   "cell_type": "code",
   "execution_count": 2,
   "metadata": {},
   "outputs": [
    {
     "data": {
      "text/plain": [
       "'\\n# Comparing columns of dataframes\\ndef compare_column(df1, df2):\\n    df1_columns = list(df1.columns.values)\\n    df2_columns = list(df2.columns.values)\\n    for i in df1_columns:\\n        if i in(df2_columns):\\n            pass\\n        else: print(\"i is not included in \",df2)\\n'"
      ]
     },
     "execution_count": 2,
     "metadata": {},
     "output_type": "execute_result"
    }
   ],
   "source": [
    "\"\"\"\n",
    "# Comparing columns of dataframes\n",
    "def compare_column(df1, df2):\n",
    "    df1_columns = list(df1.columns.values)\n",
    "    df2_columns = list(df2.columns.values)\n",
    "    for i in df1_columns:\n",
    "        if i in(df2_columns):\n",
    "            pass\n",
    "        else: print(\"i is not included in \",df2)\n",
    "\"\"\""
   ]
  },
  {
   "cell_type": "code",
   "execution_count": 3,
   "metadata": {},
   "outputs": [
    {
     "name": "stderr",
     "output_type": "stream",
     "text": [
      "C:\\Users\\Blaschko\\Anaconda3\\lib\\site-packages\\IPython\\core\\interactiveshell.py:3146: DtypeWarning: Columns (0,10,15,16,23,24) have mixed types.Specify dtype option on import or set low_memory=False.\n",
      "  interactivity=interactivity, compiler=compiler, result=result)\n"
     ]
    }
   ],
   "source": [
    "# Import Data\n",
    "data_path = \"./\"\n",
    "asteroids = pd.read_csv(data_path + \"Asteroid_Updated.csv\")"
   ]
  },
  {
   "cell_type": "code",
   "execution_count": 4,
   "metadata": {},
   "outputs": [
    {
     "data": {
      "text/html": [
       "<div>\n",
       "<style scoped>\n",
       "    .dataframe tbody tr th:only-of-type {\n",
       "        vertical-align: middle;\n",
       "    }\n",
       "\n",
       "    .dataframe tbody tr th {\n",
       "        vertical-align: top;\n",
       "    }\n",
       "\n",
       "    .dataframe thead th {\n",
       "        text-align: right;\n",
       "    }\n",
       "</style>\n",
       "<table border=\"1\" class=\"dataframe\">\n",
       "  <thead>\n",
       "    <tr style=\"text-align: right;\">\n",
       "      <th></th>\n",
       "      <th>name</th>\n",
       "      <th>a</th>\n",
       "      <th>e</th>\n",
       "      <th>i</th>\n",
       "      <th>om</th>\n",
       "      <th>w</th>\n",
       "      <th>q</th>\n",
       "      <th>ad</th>\n",
       "      <th>per_y</th>\n",
       "      <th>data_arc</th>\n",
       "      <th>condition_code</th>\n",
       "      <th>n_obs_used</th>\n",
       "      <th>H</th>\n",
       "      <th>neo</th>\n",
       "      <th>pha</th>\n",
       "      <th>diameter</th>\n",
       "      <th>extent</th>\n",
       "      <th>albedo</th>\n",
       "      <th>rot_per</th>\n",
       "      <th>GM</th>\n",
       "      <th>BV</th>\n",
       "      <th>UB</th>\n",
       "      <th>IR</th>\n",
       "      <th>spec_B</th>\n",
       "      <th>spec_T</th>\n",
       "      <th>G</th>\n",
       "      <th>moid</th>\n",
       "      <th>class</th>\n",
       "      <th>n</th>\n",
       "      <th>per</th>\n",
       "      <th>ma</th>\n",
       "    </tr>\n",
       "  </thead>\n",
       "  <tbody>\n",
       "    <tr>\n",
       "      <th>0</th>\n",
       "      <td>Ceres</td>\n",
       "      <td>2.769165</td>\n",
       "      <td>0.076009</td>\n",
       "      <td>10.594067</td>\n",
       "      <td>80.305532</td>\n",
       "      <td>73.597694</td>\n",
       "      <td>2.558684</td>\n",
       "      <td>2.979647</td>\n",
       "      <td>4.608202</td>\n",
       "      <td>8822.0</td>\n",
       "      <td>0</td>\n",
       "      <td>1002</td>\n",
       "      <td>3.34</td>\n",
       "      <td>N</td>\n",
       "      <td>N</td>\n",
       "      <td>939.4</td>\n",
       "      <td>964.4 x 964.2 x 891.8</td>\n",
       "      <td>0.0900</td>\n",
       "      <td>9.074170</td>\n",
       "      <td>62.6284</td>\n",
       "      <td>0.713</td>\n",
       "      <td>0.426</td>\n",
       "      <td>NaN</td>\n",
       "      <td>C</td>\n",
       "      <td>G</td>\n",
       "      <td>0.12</td>\n",
       "      <td>1.59478</td>\n",
       "      <td>MBA</td>\n",
       "      <td>0.213885</td>\n",
       "      <td>1683.145708</td>\n",
       "      <td>77.372096</td>\n",
       "    </tr>\n",
       "    <tr>\n",
       "      <th>1</th>\n",
       "      <td>Pallas</td>\n",
       "      <td>2.772466</td>\n",
       "      <td>0.230337</td>\n",
       "      <td>34.836234</td>\n",
       "      <td>173.080063</td>\n",
       "      <td>310.048857</td>\n",
       "      <td>2.133865</td>\n",
       "      <td>3.411067</td>\n",
       "      <td>4.616444</td>\n",
       "      <td>72318.0</td>\n",
       "      <td>0</td>\n",
       "      <td>8490</td>\n",
       "      <td>4.13</td>\n",
       "      <td>N</td>\n",
       "      <td>N</td>\n",
       "      <td>545</td>\n",
       "      <td>582x556x500</td>\n",
       "      <td>0.1010</td>\n",
       "      <td>7.813200</td>\n",
       "      <td>14.3000</td>\n",
       "      <td>0.635</td>\n",
       "      <td>0.284</td>\n",
       "      <td>NaN</td>\n",
       "      <td>B</td>\n",
       "      <td>B</td>\n",
       "      <td>0.11</td>\n",
       "      <td>1.23324</td>\n",
       "      <td>MBA</td>\n",
       "      <td>0.213503</td>\n",
       "      <td>1686.155999</td>\n",
       "      <td>59.699133</td>\n",
       "    </tr>\n",
       "    <tr>\n",
       "      <th>2</th>\n",
       "      <td>Juno</td>\n",
       "      <td>2.669150</td>\n",
       "      <td>0.256942</td>\n",
       "      <td>12.988919</td>\n",
       "      <td>169.852760</td>\n",
       "      <td>248.138626</td>\n",
       "      <td>1.983332</td>\n",
       "      <td>3.354967</td>\n",
       "      <td>4.360814</td>\n",
       "      <td>72684.0</td>\n",
       "      <td>0</td>\n",
       "      <td>7104</td>\n",
       "      <td>5.33</td>\n",
       "      <td>N</td>\n",
       "      <td>N</td>\n",
       "      <td>246.596</td>\n",
       "      <td>NaN</td>\n",
       "      <td>0.2140</td>\n",
       "      <td>7.210000</td>\n",
       "      <td>NaN</td>\n",
       "      <td>0.824</td>\n",
       "      <td>0.433</td>\n",
       "      <td>NaN</td>\n",
       "      <td>Sk</td>\n",
       "      <td>S</td>\n",
       "      <td>0.32</td>\n",
       "      <td>1.03454</td>\n",
       "      <td>MBA</td>\n",
       "      <td>0.226019</td>\n",
       "      <td>1592.787285</td>\n",
       "      <td>34.925016</td>\n",
       "    </tr>\n",
       "    <tr>\n",
       "      <th>3</th>\n",
       "      <td>Vesta</td>\n",
       "      <td>2.361418</td>\n",
       "      <td>0.088721</td>\n",
       "      <td>7.141771</td>\n",
       "      <td>103.810804</td>\n",
       "      <td>150.728541</td>\n",
       "      <td>2.151909</td>\n",
       "      <td>2.570926</td>\n",
       "      <td>3.628837</td>\n",
       "      <td>24288.0</td>\n",
       "      <td>0</td>\n",
       "      <td>9325</td>\n",
       "      <td>3.20</td>\n",
       "      <td>N</td>\n",
       "      <td>N</td>\n",
       "      <td>525.4</td>\n",
       "      <td>572.6 x 557.2 x 446.4</td>\n",
       "      <td>0.4228</td>\n",
       "      <td>5.342128</td>\n",
       "      <td>17.8000</td>\n",
       "      <td>0.782</td>\n",
       "      <td>0.492</td>\n",
       "      <td>NaN</td>\n",
       "      <td>V</td>\n",
       "      <td>V</td>\n",
       "      <td>0.32</td>\n",
       "      <td>1.13948</td>\n",
       "      <td>MBA</td>\n",
       "      <td>0.271609</td>\n",
       "      <td>1325.432765</td>\n",
       "      <td>95.861936</td>\n",
       "    </tr>\n",
       "    <tr>\n",
       "      <th>4</th>\n",
       "      <td>Astraea</td>\n",
       "      <td>2.574249</td>\n",
       "      <td>0.191095</td>\n",
       "      <td>5.366988</td>\n",
       "      <td>141.576605</td>\n",
       "      <td>358.687607</td>\n",
       "      <td>2.082324</td>\n",
       "      <td>3.066174</td>\n",
       "      <td>4.130323</td>\n",
       "      <td>63507.0</td>\n",
       "      <td>0</td>\n",
       "      <td>2916</td>\n",
       "      <td>6.85</td>\n",
       "      <td>N</td>\n",
       "      <td>N</td>\n",
       "      <td>106.699</td>\n",
       "      <td>NaN</td>\n",
       "      <td>0.2740</td>\n",
       "      <td>16.806000</td>\n",
       "      <td>NaN</td>\n",
       "      <td>0.826</td>\n",
       "      <td>0.411</td>\n",
       "      <td>NaN</td>\n",
       "      <td>S</td>\n",
       "      <td>S</td>\n",
       "      <td>NaN</td>\n",
       "      <td>1.09589</td>\n",
       "      <td>MBA</td>\n",
       "      <td>0.238632</td>\n",
       "      <td>1508.600458</td>\n",
       "      <td>282.366289</td>\n",
       "    </tr>\n",
       "  </tbody>\n",
       "</table>\n",
       "</div>"
      ],
      "text/plain": [
       "      name         a         e          i          om           w         q  \\\n",
       "0    Ceres  2.769165  0.076009  10.594067   80.305532   73.597694  2.558684   \n",
       "1   Pallas  2.772466  0.230337  34.836234  173.080063  310.048857  2.133865   \n",
       "2     Juno  2.669150  0.256942  12.988919  169.852760  248.138626  1.983332   \n",
       "3    Vesta  2.361418  0.088721   7.141771  103.810804  150.728541  2.151909   \n",
       "4  Astraea  2.574249  0.191095   5.366988  141.576605  358.687607  2.082324   \n",
       "\n",
       "         ad     per_y  data_arc condition_code  n_obs_used     H neo pha  \\\n",
       "0  2.979647  4.608202    8822.0              0        1002  3.34   N   N   \n",
       "1  3.411067  4.616444   72318.0              0        8490  4.13   N   N   \n",
       "2  3.354967  4.360814   72684.0              0        7104  5.33   N   N   \n",
       "3  2.570926  3.628837   24288.0              0        9325  3.20   N   N   \n",
       "4  3.066174  4.130323   63507.0              0        2916  6.85   N   N   \n",
       "\n",
       "  diameter                 extent  albedo    rot_per       GM     BV     UB  \\\n",
       "0    939.4  964.4 x 964.2 x 891.8  0.0900   9.074170  62.6284  0.713  0.426   \n",
       "1      545            582x556x500  0.1010   7.813200  14.3000  0.635  0.284   \n",
       "2  246.596                    NaN  0.2140   7.210000      NaN  0.824  0.433   \n",
       "3    525.4  572.6 x 557.2 x 446.4  0.4228   5.342128  17.8000  0.782  0.492   \n",
       "4  106.699                    NaN  0.2740  16.806000      NaN  0.826  0.411   \n",
       "\n",
       "   IR spec_B spec_T     G     moid class         n          per          ma  \n",
       "0 NaN      C      G  0.12  1.59478   MBA  0.213885  1683.145708   77.372096  \n",
       "1 NaN      B      B  0.11  1.23324   MBA  0.213503  1686.155999   59.699133  \n",
       "2 NaN     Sk      S  0.32  1.03454   MBA  0.226019  1592.787285   34.925016  \n",
       "3 NaN      V      V  0.32  1.13948   MBA  0.271609  1325.432765   95.861936  \n",
       "4 NaN      S      S   NaN  1.09589   MBA  0.238632  1508.600458  282.366289  "
      ]
     },
     "execution_count": 4,
     "metadata": {},
     "output_type": "execute_result"
    }
   ],
   "source": [
    "asteroids.head()"
   ]
  },
  {
   "cell_type": "code",
   "execution_count": 5,
   "metadata": {},
   "outputs": [
    {
     "data": {
      "text/plain": [
       "(839714, 31)"
      ]
     },
     "execution_count": 5,
     "metadata": {},
     "output_type": "execute_result"
    }
   ],
   "source": [
    "asteroids.shape"
   ]
  },
  {
   "cell_type": "code",
   "execution_count": 6,
   "metadata": {},
   "outputs": [],
   "source": [
    "# asteroids.isna().sum()"
   ]
  },
  {
   "cell_type": "markdown",
   "metadata": {},
   "source": [
    "# Daten bereinigen"
   ]
  },
  {
   "cell_type": "markdown",
   "metadata": {},
   "source": [
    "**Vorverarbeitung**\n",
    "\n",
    "1. Alle Zeilen ohne Zielvariable (Diameter) entfernt\n",
    "2. Alle features rausgenomen die mehr als 90% fehlende Werte haben\n",
    "3. Diameter zu float und condition_code zu int umgewandelt\n",
    "4. Dropped \"name\" weil der Name einzigartig ist\n",
    "5. Umkodieren von kategorischen Werten (neo und pha) von Y/N zu 1/0\n",
    "6. Alle NANs mit Durchschnitt gefüllt\n",
    "7. Transformation der Zielvariable Diameter in diameter_log\n",
    "8. Endkontrolle nach missing values o.ä."
   ]
  },
  {
   "cell_type": "code",
   "execution_count": 7,
   "metadata": {},
   "outputs": [],
   "source": [
    "# Drop all rows without diameter\n",
    "df_dropna = asteroids[asteroids[\"diameter\"].notna()]"
   ]
  },
  {
   "cell_type": "code",
   "execution_count": 8,
   "metadata": {},
   "outputs": [
    {
     "data": {
      "text/plain": [
       "(137636, 31)"
      ]
     },
     "execution_count": 8,
     "metadata": {},
     "output_type": "execute_result"
    }
   ],
   "source": [
    "df_dropna.shape"
   ]
  },
  {
   "cell_type": "code",
   "execution_count": 9,
   "metadata": {},
   "outputs": [
    {
     "data": {
      "text/plain": [
       "name              122512\n",
       "a                      0\n",
       "e                      0\n",
       "i                      0\n",
       "om                     0\n",
       "w                      0\n",
       "q                      0\n",
       "ad                     0\n",
       "per_y                  0\n",
       "data_arc             138\n",
       "condition_code         0\n",
       "n_obs_used             0\n",
       "H                    747\n",
       "neo                    0\n",
       "pha                    0\n",
       "diameter               0\n",
       "extent            137620\n",
       "albedo              1230\n",
       "rot_per           126448\n",
       "GM                137622\n",
       "BV                136631\n",
       "UB                136671\n",
       "IR                137635\n",
       "spec_B            136266\n",
       "spec_T            136671\n",
       "G                 137517\n",
       "moid                   0\n",
       "class                  0\n",
       "n                      0\n",
       "per                    0\n",
       "ma                     0\n",
       "dtype: int64"
      ]
     },
     "execution_count": 9,
     "metadata": {},
     "output_type": "execute_result"
    }
   ],
   "source": [
    "df_dropna.isna().sum()"
   ]
  },
  {
   "cell_type": "code",
   "execution_count": 10,
   "metadata": {},
   "outputs": [],
   "source": [
    "# Drop all colums with less than 90 % NA\n",
    "df_test = df_dropna[df_dropna.columns[df_dropna.isnull().mean() < 0.9]]\n",
    "# data_updated_dropna=data_updated_dropna.dropna(axis = \"columns\", thresh = 0.9 * len(data_updated_dropna))"
   ]
  },
  {
   "cell_type": "code",
   "execution_count": 11,
   "metadata": {},
   "outputs": [
    {
     "data": {
      "text/plain": [
       "(137636, 22)"
      ]
     },
     "execution_count": 11,
     "metadata": {},
     "output_type": "execute_result"
    }
   ],
   "source": [
    "df_test.shape"
   ]
  },
  {
   "cell_type": "code",
   "execution_count": 12,
   "metadata": {
    "scrolled": true
   },
   "outputs": [
    {
     "data": {
      "text/plain": [
       "name              122512\n",
       "a                      0\n",
       "e                      0\n",
       "i                      0\n",
       "om                     0\n",
       "w                      0\n",
       "q                      0\n",
       "ad                     0\n",
       "per_y                  0\n",
       "data_arc             138\n",
       "condition_code         0\n",
       "n_obs_used             0\n",
       "H                    747\n",
       "neo                    0\n",
       "pha                    0\n",
       "diameter               0\n",
       "albedo              1230\n",
       "moid                   0\n",
       "class                  0\n",
       "n                      0\n",
       "per                    0\n",
       "ma                     0\n",
       "dtype: int64"
      ]
     },
     "execution_count": 12,
     "metadata": {},
     "output_type": "execute_result"
    }
   ],
   "source": [
    "df_test.isna().sum()"
   ]
  },
  {
   "cell_type": "code",
   "execution_count": 13,
   "metadata": {},
   "outputs": [
    {
     "data": {
      "text/html": [
       "<div>\n",
       "<style scoped>\n",
       "    .dataframe tbody tr th:only-of-type {\n",
       "        vertical-align: middle;\n",
       "    }\n",
       "\n",
       "    .dataframe tbody tr th {\n",
       "        vertical-align: top;\n",
       "    }\n",
       "\n",
       "    .dataframe thead th {\n",
       "        text-align: right;\n",
       "    }\n",
       "</style>\n",
       "<table border=\"1\" class=\"dataframe\">\n",
       "  <thead>\n",
       "    <tr style=\"text-align: right;\">\n",
       "      <th></th>\n",
       "      <th>name</th>\n",
       "      <th>a</th>\n",
       "      <th>e</th>\n",
       "      <th>i</th>\n",
       "      <th>om</th>\n",
       "      <th>w</th>\n",
       "      <th>q</th>\n",
       "      <th>ad</th>\n",
       "      <th>per_y</th>\n",
       "      <th>data_arc</th>\n",
       "      <th>condition_code</th>\n",
       "      <th>n_obs_used</th>\n",
       "      <th>H</th>\n",
       "      <th>neo</th>\n",
       "      <th>pha</th>\n",
       "      <th>diameter</th>\n",
       "      <th>albedo</th>\n",
       "      <th>moid</th>\n",
       "      <th>class</th>\n",
       "      <th>n</th>\n",
       "      <th>per</th>\n",
       "      <th>ma</th>\n",
       "    </tr>\n",
       "  </thead>\n",
       "  <tbody>\n",
       "    <tr>\n",
       "      <th>count</th>\n",
       "      <td>15124</td>\n",
       "      <td>137636.000000</td>\n",
       "      <td>137636.000000</td>\n",
       "      <td>137636.000000</td>\n",
       "      <td>137636.000000</td>\n",
       "      <td>137636.000000</td>\n",
       "      <td>137636.000000</td>\n",
       "      <td>137636.000000</td>\n",
       "      <td>137636.000000</td>\n",
       "      <td>137498.000000</td>\n",
       "      <td>137636.0</td>\n",
       "      <td>137636.000000</td>\n",
       "      <td>136889.000000</td>\n",
       "      <td>137636</td>\n",
       "      <td>137636</td>\n",
       "      <td>137636.000</td>\n",
       "      <td>136406.000000</td>\n",
       "      <td>137636.000000</td>\n",
       "      <td>137636</td>\n",
       "      <td>137636.000000</td>\n",
       "      <td>1.376360e+05</td>\n",
       "      <td>137636.000000</td>\n",
       "    </tr>\n",
       "    <tr>\n",
       "      <th>unique</th>\n",
       "      <td>15124</td>\n",
       "      <td>NaN</td>\n",
       "      <td>NaN</td>\n",
       "      <td>NaN</td>\n",
       "      <td>NaN</td>\n",
       "      <td>NaN</td>\n",
       "      <td>NaN</td>\n",
       "      <td>NaN</td>\n",
       "      <td>NaN</td>\n",
       "      <td>NaN</td>\n",
       "      <td>20.0</td>\n",
       "      <td>NaN</td>\n",
       "      <td>NaN</td>\n",
       "      <td>2</td>\n",
       "      <td>2</td>\n",
       "      <td>24462.000</td>\n",
       "      <td>NaN</td>\n",
       "      <td>NaN</td>\n",
       "      <td>11</td>\n",
       "      <td>NaN</td>\n",
       "      <td>NaN</td>\n",
       "      <td>NaN</td>\n",
       "    </tr>\n",
       "    <tr>\n",
       "      <th>top</th>\n",
       "      <td>Makotoirie</td>\n",
       "      <td>NaN</td>\n",
       "      <td>NaN</td>\n",
       "      <td>NaN</td>\n",
       "      <td>NaN</td>\n",
       "      <td>NaN</td>\n",
       "      <td>NaN</td>\n",
       "      <td>NaN</td>\n",
       "      <td>NaN</td>\n",
       "      <td>NaN</td>\n",
       "      <td>0.0</td>\n",
       "      <td>NaN</td>\n",
       "      <td>NaN</td>\n",
       "      <td>N</td>\n",
       "      <td>N</td>\n",
       "      <td>3.296</td>\n",
       "      <td>NaN</td>\n",
       "      <td>NaN</td>\n",
       "      <td>MBA</td>\n",
       "      <td>NaN</td>\n",
       "      <td>NaN</td>\n",
       "      <td>NaN</td>\n",
       "    </tr>\n",
       "    <tr>\n",
       "      <th>freq</th>\n",
       "      <td>1</td>\n",
       "      <td>NaN</td>\n",
       "      <td>NaN</td>\n",
       "      <td>NaN</td>\n",
       "      <td>NaN</td>\n",
       "      <td>NaN</td>\n",
       "      <td>NaN</td>\n",
       "      <td>NaN</td>\n",
       "      <td>NaN</td>\n",
       "      <td>NaN</td>\n",
       "      <td>126194.0</td>\n",
       "      <td>NaN</td>\n",
       "      <td>NaN</td>\n",
       "      <td>136786</td>\n",
       "      <td>137415</td>\n",
       "      <td>44.000</td>\n",
       "      <td>NaN</td>\n",
       "      <td>NaN</td>\n",
       "      <td>126390</td>\n",
       "      <td>NaN</td>\n",
       "      <td>NaN</td>\n",
       "      <td>NaN</td>\n",
       "    </tr>\n",
       "    <tr>\n",
       "      <th>mean</th>\n",
       "      <td>NaN</td>\n",
       "      <td>2.814613</td>\n",
       "      <td>0.145485</td>\n",
       "      <td>10.349182</td>\n",
       "      <td>169.827629</td>\n",
       "      <td>181.904551</td>\n",
       "      <td>2.402609</td>\n",
       "      <td>3.226618</td>\n",
       "      <td>4.884248</td>\n",
       "      <td>8969.818601</td>\n",
       "      <td>NaN</td>\n",
       "      <td>675.027740</td>\n",
       "      <td>15.177041</td>\n",
       "      <td>NaN</td>\n",
       "      <td>NaN</td>\n",
       "      <td>NaN</td>\n",
       "      <td>0.130066</td>\n",
       "      <td>1.420145</td>\n",
       "      <td>NaN</td>\n",
       "      <td>0.219640</td>\n",
       "      <td>1.783972e+03</td>\n",
       "      <td>183.116785</td>\n",
       "    </tr>\n",
       "    <tr>\n",
       "      <th>std</th>\n",
       "      <td>NaN</td>\n",
       "      <td>1.522740</td>\n",
       "      <td>0.077573</td>\n",
       "      <td>6.835111</td>\n",
       "      <td>102.713052</td>\n",
       "      <td>103.556464</td>\n",
       "      <td>0.516169</td>\n",
       "      <td>2.896374</td>\n",
       "      <td>25.532565</td>\n",
       "      <td>6165.176190</td>\n",
       "      <td>NaN</td>\n",
       "      <td>595.935104</td>\n",
       "      <td>1.407654</td>\n",
       "      <td>NaN</td>\n",
       "      <td>NaN</td>\n",
       "      <td>NaN</td>\n",
       "      <td>0.109994</td>\n",
       "      <td>0.512241</td>\n",
       "      <td>NaN</td>\n",
       "      <td>0.056980</td>\n",
       "      <td>9.325769e+03</td>\n",
       "      <td>103.411497</td>\n",
       "    </tr>\n",
       "    <tr>\n",
       "      <th>min</th>\n",
       "      <td>NaN</td>\n",
       "      <td>0.626226</td>\n",
       "      <td>0.000489</td>\n",
       "      <td>0.021855</td>\n",
       "      <td>0.000738</td>\n",
       "      <td>0.004466</td>\n",
       "      <td>0.081882</td>\n",
       "      <td>0.999956</td>\n",
       "      <td>0.495569</td>\n",
       "      <td>1.000000</td>\n",
       "      <td>NaN</td>\n",
       "      <td>5.000000</td>\n",
       "      <td>3.200000</td>\n",
       "      <td>NaN</td>\n",
       "      <td>NaN</td>\n",
       "      <td>NaN</td>\n",
       "      <td>0.001000</td>\n",
       "      <td>0.000166</td>\n",
       "      <td>NaN</td>\n",
       "      <td>0.000128</td>\n",
       "      <td>1.810067e+02</td>\n",
       "      <td>0.000517</td>\n",
       "    </tr>\n",
       "    <tr>\n",
       "      <th>25%</th>\n",
       "      <td>NaN</td>\n",
       "      <td>2.536714</td>\n",
       "      <td>0.089623</td>\n",
       "      <td>5.120506</td>\n",
       "      <td>82.334880</td>\n",
       "      <td>91.947943</td>\n",
       "      <td>2.068948</td>\n",
       "      <td>2.864438</td>\n",
       "      <td>4.040317</td>\n",
       "      <td>6291.000000</td>\n",
       "      <td>NaN</td>\n",
       "      <td>215.000000</td>\n",
       "      <td>14.400000</td>\n",
       "      <td>NaN</td>\n",
       "      <td>NaN</td>\n",
       "      <td>NaN</td>\n",
       "      <td>0.053000</td>\n",
       "      <td>1.082523</td>\n",
       "      <td>NaN</td>\n",
       "      <td>0.181231</td>\n",
       "      <td>1.475726e+03</td>\n",
       "      <td>94.301261</td>\n",
       "    </tr>\n",
       "    <tr>\n",
       "      <th>50%</th>\n",
       "      <td>NaN</td>\n",
       "      <td>2.750859</td>\n",
       "      <td>0.138543</td>\n",
       "      <td>9.389963</td>\n",
       "      <td>160.438430</td>\n",
       "      <td>183.669900</td>\n",
       "      <td>2.363897</td>\n",
       "      <td>3.167516</td>\n",
       "      <td>4.562581</td>\n",
       "      <td>7572.000000</td>\n",
       "      <td>NaN</td>\n",
       "      <td>496.000000</td>\n",
       "      <td>15.300000</td>\n",
       "      <td>NaN</td>\n",
       "      <td>NaN</td>\n",
       "      <td>NaN</td>\n",
       "      <td>0.078000</td>\n",
       "      <td>1.384935</td>\n",
       "      <td>NaN</td>\n",
       "      <td>0.216024</td>\n",
       "      <td>1.666483e+03</td>\n",
       "      <td>186.826667</td>\n",
       "    </tr>\n",
       "    <tr>\n",
       "      <th>75%</th>\n",
       "      <td>NaN</td>\n",
       "      <td>3.092537</td>\n",
       "      <td>0.191141</td>\n",
       "      <td>13.738588</td>\n",
       "      <td>256.268387</td>\n",
       "      <td>271.762261</td>\n",
       "      <td>2.685811</td>\n",
       "      <td>3.468608</td>\n",
       "      <td>5.438518</td>\n",
       "      <td>9731.000000</td>\n",
       "      <td>NaN</td>\n",
       "      <td>984.000000</td>\n",
       "      <td>16.100000</td>\n",
       "      <td>NaN</td>\n",
       "      <td>NaN</td>\n",
       "      <td>NaN</td>\n",
       "      <td>0.188000</td>\n",
       "      <td>1.699385</td>\n",
       "      <td>NaN</td>\n",
       "      <td>0.243948</td>\n",
       "      <td>1.986419e+03</td>\n",
       "      <td>271.468299</td>\n",
       "    </tr>\n",
       "    <tr>\n",
       "      <th>max</th>\n",
       "      <td>NaN</td>\n",
       "      <td>389.145964</td>\n",
       "      <td>0.984348</td>\n",
       "      <td>170.323647</td>\n",
       "      <td>359.990858</td>\n",
       "      <td>359.995174</td>\n",
       "      <td>40.465671</td>\n",
       "      <td>772.201080</td>\n",
       "      <td>7676.742943</td>\n",
       "      <td>72684.000000</td>\n",
       "      <td>NaN</td>\n",
       "      <td>9325.000000</td>\n",
       "      <td>29.900000</td>\n",
       "      <td>NaN</td>\n",
       "      <td>NaN</td>\n",
       "      <td>NaN</td>\n",
       "      <td>1.000000</td>\n",
       "      <td>39.507000</td>\n",
       "      <td>NaN</td>\n",
       "      <td>1.988877</td>\n",
       "      <td>2.803930e+06</td>\n",
       "      <td>359.999979</td>\n",
       "    </tr>\n",
       "  </tbody>\n",
       "</table>\n",
       "</div>"
      ],
      "text/plain": [
       "              name              a              e              i  \\\n",
       "count        15124  137636.000000  137636.000000  137636.000000   \n",
       "unique       15124            NaN            NaN            NaN   \n",
       "top     Makotoirie            NaN            NaN            NaN   \n",
       "freq             1            NaN            NaN            NaN   \n",
       "mean           NaN       2.814613       0.145485      10.349182   \n",
       "std            NaN       1.522740       0.077573       6.835111   \n",
       "min            NaN       0.626226       0.000489       0.021855   \n",
       "25%            NaN       2.536714       0.089623       5.120506   \n",
       "50%            NaN       2.750859       0.138543       9.389963   \n",
       "75%            NaN       3.092537       0.191141      13.738588   \n",
       "max            NaN     389.145964       0.984348     170.323647   \n",
       "\n",
       "                   om              w              q             ad  \\\n",
       "count   137636.000000  137636.000000  137636.000000  137636.000000   \n",
       "unique            NaN            NaN            NaN            NaN   \n",
       "top               NaN            NaN            NaN            NaN   \n",
       "freq              NaN            NaN            NaN            NaN   \n",
       "mean       169.827629     181.904551       2.402609       3.226618   \n",
       "std        102.713052     103.556464       0.516169       2.896374   \n",
       "min          0.000738       0.004466       0.081882       0.999956   \n",
       "25%         82.334880      91.947943       2.068948       2.864438   \n",
       "50%        160.438430     183.669900       2.363897       3.167516   \n",
       "75%        256.268387     271.762261       2.685811       3.468608   \n",
       "max        359.990858     359.995174      40.465671     772.201080   \n",
       "\n",
       "                per_y       data_arc  condition_code     n_obs_used  \\\n",
       "count   137636.000000  137498.000000        137636.0  137636.000000   \n",
       "unique            NaN            NaN            20.0            NaN   \n",
       "top               NaN            NaN             0.0            NaN   \n",
       "freq              NaN            NaN        126194.0            NaN   \n",
       "mean         4.884248    8969.818601             NaN     675.027740   \n",
       "std         25.532565    6165.176190             NaN     595.935104   \n",
       "min          0.495569       1.000000             NaN       5.000000   \n",
       "25%          4.040317    6291.000000             NaN     215.000000   \n",
       "50%          4.562581    7572.000000             NaN     496.000000   \n",
       "75%          5.438518    9731.000000             NaN     984.000000   \n",
       "max       7676.742943   72684.000000             NaN    9325.000000   \n",
       "\n",
       "                    H     neo     pha    diameter         albedo  \\\n",
       "count   136889.000000  137636  137636  137636.000  136406.000000   \n",
       "unique            NaN       2       2   24462.000            NaN   \n",
       "top               NaN       N       N       3.296            NaN   \n",
       "freq              NaN  136786  137415      44.000            NaN   \n",
       "mean        15.177041     NaN     NaN         NaN       0.130066   \n",
       "std          1.407654     NaN     NaN         NaN       0.109994   \n",
       "min          3.200000     NaN     NaN         NaN       0.001000   \n",
       "25%         14.400000     NaN     NaN         NaN       0.053000   \n",
       "50%         15.300000     NaN     NaN         NaN       0.078000   \n",
       "75%         16.100000     NaN     NaN         NaN       0.188000   \n",
       "max         29.900000     NaN     NaN         NaN       1.000000   \n",
       "\n",
       "                 moid   class              n           per             ma  \n",
       "count   137636.000000  137636  137636.000000  1.376360e+05  137636.000000  \n",
       "unique            NaN      11            NaN           NaN            NaN  \n",
       "top               NaN     MBA            NaN           NaN            NaN  \n",
       "freq              NaN  126390            NaN           NaN            NaN  \n",
       "mean         1.420145     NaN       0.219640  1.783972e+03     183.116785  \n",
       "std          0.512241     NaN       0.056980  9.325769e+03     103.411497  \n",
       "min          0.000166     NaN       0.000128  1.810067e+02       0.000517  \n",
       "25%          1.082523     NaN       0.181231  1.475726e+03      94.301261  \n",
       "50%          1.384935     NaN       0.216024  1.666483e+03     186.826667  \n",
       "75%          1.699385     NaN       0.243948  1.986419e+03     271.468299  \n",
       "max         39.507000     NaN       1.988877  2.803930e+06     359.999979  "
      ]
     },
     "execution_count": 13,
     "metadata": {},
     "output_type": "execute_result"
    }
   ],
   "source": [
    "df_test.describe(include=\"all\")"
   ]
  },
  {
   "cell_type": "code",
   "execution_count": 14,
   "metadata": {},
   "outputs": [
    {
     "name": "stderr",
     "output_type": "stream",
     "text": [
      "C:\\Users\\Blaschko\\Anaconda3\\lib\\site-packages\\pandas\\core\\indexing.py:1745: SettingWithCopyWarning: \n",
      "A value is trying to be set on a copy of a slice from a DataFrame.\n",
      "Try using .loc[row_indexer,col_indexer] = value instead\n",
      "\n",
      "See the caveats in the documentation: https://pandas.pydata.org/pandas-docs/stable/user_guide/indexing.html#returning-a-view-versus-a-copy\n",
      "  isetter(ilocs[0], value)\n"
     ]
    }
   ],
   "source": [
    "# Change diameter type into floa\n",
    "df_test.loc[:, \"diameter\"] = df_test.loc[:, \"diameter\"].astype(float)"
   ]
  },
  {
   "cell_type": "code",
   "execution_count": 15,
   "metadata": {},
   "outputs": [
    {
     "data": {
      "text/plain": [
       "array([0, 1, 3, 2, '0', '1', '2', '3', '4', '5', '9', '7', 5.0, 6.0, 4.0,\n",
       "       7.0, 9.0, 8.0, '8', '6'], dtype=object)"
      ]
     },
     "execution_count": 15,
     "metadata": {},
     "output_type": "execute_result"
    }
   ],
   "source": [
    "df_test[\"condition_code\"].unique()"
   ]
  },
  {
   "cell_type": "code",
   "execution_count": 16,
   "metadata": {},
   "outputs": [],
   "source": [
    "# transform condition code (int, str, float) in integer\n",
    "df_test.loc[:, \"condition_code\"] = df_test.loc[:, \"condition_code\"].astype(int)"
   ]
  },
  {
   "cell_type": "code",
   "execution_count": 17,
   "metadata": {},
   "outputs": [
    {
     "data": {
      "text/plain": [
       "array(['N', 'Y'], dtype=object)"
      ]
     },
     "execution_count": 17,
     "metadata": {},
     "output_type": "execute_result"
    }
   ],
   "source": [
    "df_test[\"neo\"].unique()"
   ]
  },
  {
   "cell_type": "code",
   "execution_count": 18,
   "metadata": {},
   "outputs": [
    {
     "data": {
      "text/plain": [
       "array(['N', 'Y'], dtype=object)"
      ]
     },
     "execution_count": 18,
     "metadata": {},
     "output_type": "execute_result"
    }
   ],
   "source": [
    "df_test[\"pha\"].unique()"
   ]
  },
  {
   "cell_type": "code",
   "execution_count": 19,
   "metadata": {},
   "outputs": [
    {
     "data": {
      "text/plain": [
       "array(['MBA', 'OMB', 'MCA', 'AMO', 'IMB', 'TJN', 'CEN', 'APO', 'ATE',\n",
       "       'AST', 'TNO'], dtype=object)"
      ]
     },
     "execution_count": 19,
     "metadata": {},
     "output_type": "execute_result"
    }
   ],
   "source": [
    "df_test[\"class\"].unique()"
   ]
  },
  {
   "cell_type": "code",
   "execution_count": 20,
   "metadata": {},
   "outputs": [],
   "source": [
    "# Drop \"name\" weil einzigartig für alle und condition_code \n",
    "# (uncertainty parameter of the orbit)\n",
    "df = df_test.drop(['name'],axis=1)\n",
    "\n",
    "# Drop neo und pha weil \"Y\" und \"N\"\n",
    "# df = df.drop(['neo','pha'],axis=1)"
   ]
  },
  {
   "cell_type": "code",
   "execution_count": 21,
   "metadata": {},
   "outputs": [],
   "source": [
    "neo_code = {'Y': 1,'N': 0} \n",
    "pha_code = {'Y': 1,'N': 0} \n",
    "\n",
    "df.neo = [neo_code[item] for item in df.neo] \n",
    "df.pha = [pha_code[item] for item in df.pha] "
   ]
  },
  {
   "cell_type": "code",
   "execution_count": 22,
   "metadata": {},
   "outputs": [],
   "source": [
    "# Alle NANs mit Durchschnitt füllen\n",
    "df = df.fillna(df.mean())"
   ]
  },
  {
   "cell_type": "code",
   "execution_count": 23,
   "metadata": {},
   "outputs": [],
   "source": [
    "df[\"diameter_log\"]=np.log(df[\"diameter\"])"
   ]
  },
  {
   "cell_type": "code",
   "execution_count": 24,
   "metadata": {},
   "outputs": [
    {
     "data": {
      "text/html": [
       "<div>\n",
       "<style scoped>\n",
       "    .dataframe tbody tr th:only-of-type {\n",
       "        vertical-align: middle;\n",
       "    }\n",
       "\n",
       "    .dataframe tbody tr th {\n",
       "        vertical-align: top;\n",
       "    }\n",
       "\n",
       "    .dataframe thead th {\n",
       "        text-align: right;\n",
       "    }\n",
       "</style>\n",
       "<table border=\"1\" class=\"dataframe\">\n",
       "  <thead>\n",
       "    <tr style=\"text-align: right;\">\n",
       "      <th></th>\n",
       "      <th>a</th>\n",
       "      <th>e</th>\n",
       "      <th>i</th>\n",
       "      <th>om</th>\n",
       "      <th>w</th>\n",
       "      <th>q</th>\n",
       "      <th>ad</th>\n",
       "      <th>per_y</th>\n",
       "      <th>data_arc</th>\n",
       "      <th>condition_code</th>\n",
       "      <th>n_obs_used</th>\n",
       "      <th>H</th>\n",
       "      <th>neo</th>\n",
       "      <th>pha</th>\n",
       "      <th>diameter</th>\n",
       "      <th>albedo</th>\n",
       "      <th>moid</th>\n",
       "      <th>class</th>\n",
       "      <th>n</th>\n",
       "      <th>per</th>\n",
       "      <th>ma</th>\n",
       "      <th>diameter_log</th>\n",
       "    </tr>\n",
       "  </thead>\n",
       "  <tbody>\n",
       "    <tr>\n",
       "      <th>count</th>\n",
       "      <td>137636.000000</td>\n",
       "      <td>137636.000000</td>\n",
       "      <td>137636.000000</td>\n",
       "      <td>137636.000000</td>\n",
       "      <td>137636.000000</td>\n",
       "      <td>137636.000000</td>\n",
       "      <td>137636.000000</td>\n",
       "      <td>137636.000000</td>\n",
       "      <td>137636.000000</td>\n",
       "      <td>137636.000000</td>\n",
       "      <td>137636.000000</td>\n",
       "      <td>137636.000000</td>\n",
       "      <td>137636.000000</td>\n",
       "      <td>137636.000000</td>\n",
       "      <td>137636.000000</td>\n",
       "      <td>137636.000000</td>\n",
       "      <td>137636.000000</td>\n",
       "      <td>137636</td>\n",
       "      <td>137636.000000</td>\n",
       "      <td>1.376360e+05</td>\n",
       "      <td>137636.000000</td>\n",
       "      <td>137636.000000</td>\n",
       "    </tr>\n",
       "    <tr>\n",
       "      <th>unique</th>\n",
       "      <td>NaN</td>\n",
       "      <td>NaN</td>\n",
       "      <td>NaN</td>\n",
       "      <td>NaN</td>\n",
       "      <td>NaN</td>\n",
       "      <td>NaN</td>\n",
       "      <td>NaN</td>\n",
       "      <td>NaN</td>\n",
       "      <td>NaN</td>\n",
       "      <td>NaN</td>\n",
       "      <td>NaN</td>\n",
       "      <td>NaN</td>\n",
       "      <td>NaN</td>\n",
       "      <td>NaN</td>\n",
       "      <td>NaN</td>\n",
       "      <td>NaN</td>\n",
       "      <td>NaN</td>\n",
       "      <td>11</td>\n",
       "      <td>NaN</td>\n",
       "      <td>NaN</td>\n",
       "      <td>NaN</td>\n",
       "      <td>NaN</td>\n",
       "    </tr>\n",
       "    <tr>\n",
       "      <th>top</th>\n",
       "      <td>NaN</td>\n",
       "      <td>NaN</td>\n",
       "      <td>NaN</td>\n",
       "      <td>NaN</td>\n",
       "      <td>NaN</td>\n",
       "      <td>NaN</td>\n",
       "      <td>NaN</td>\n",
       "      <td>NaN</td>\n",
       "      <td>NaN</td>\n",
       "      <td>NaN</td>\n",
       "      <td>NaN</td>\n",
       "      <td>NaN</td>\n",
       "      <td>NaN</td>\n",
       "      <td>NaN</td>\n",
       "      <td>NaN</td>\n",
       "      <td>NaN</td>\n",
       "      <td>NaN</td>\n",
       "      <td>MBA</td>\n",
       "      <td>NaN</td>\n",
       "      <td>NaN</td>\n",
       "      <td>NaN</td>\n",
       "      <td>NaN</td>\n",
       "    </tr>\n",
       "    <tr>\n",
       "      <th>freq</th>\n",
       "      <td>NaN</td>\n",
       "      <td>NaN</td>\n",
       "      <td>NaN</td>\n",
       "      <td>NaN</td>\n",
       "      <td>NaN</td>\n",
       "      <td>NaN</td>\n",
       "      <td>NaN</td>\n",
       "      <td>NaN</td>\n",
       "      <td>NaN</td>\n",
       "      <td>NaN</td>\n",
       "      <td>NaN</td>\n",
       "      <td>NaN</td>\n",
       "      <td>NaN</td>\n",
       "      <td>NaN</td>\n",
       "      <td>NaN</td>\n",
       "      <td>NaN</td>\n",
       "      <td>NaN</td>\n",
       "      <td>126390</td>\n",
       "      <td>NaN</td>\n",
       "      <td>NaN</td>\n",
       "      <td>NaN</td>\n",
       "      <td>NaN</td>\n",
       "    </tr>\n",
       "    <tr>\n",
       "      <th>mean</th>\n",
       "      <td>2.814613</td>\n",
       "      <td>0.145485</td>\n",
       "      <td>10.349182</td>\n",
       "      <td>169.827629</td>\n",
       "      <td>181.904551</td>\n",
       "      <td>2.402609</td>\n",
       "      <td>3.226618</td>\n",
       "      <td>4.884248</td>\n",
       "      <td>8969.818601</td>\n",
       "      <td>0.485207</td>\n",
       "      <td>675.027740</td>\n",
       "      <td>15.177041</td>\n",
       "      <td>0.006176</td>\n",
       "      <td>0.001606</td>\n",
       "      <td>5.483228</td>\n",
       "      <td>0.130066</td>\n",
       "      <td>1.420145</td>\n",
       "      <td>NaN</td>\n",
       "      <td>0.219640</td>\n",
       "      <td>1.783972e+03</td>\n",
       "      <td>183.116785</td>\n",
       "      <td>1.421174</td>\n",
       "    </tr>\n",
       "    <tr>\n",
       "      <th>std</th>\n",
       "      <td>1.522740</td>\n",
       "      <td>0.077573</td>\n",
       "      <td>6.835111</td>\n",
       "      <td>102.713052</td>\n",
       "      <td>103.556464</td>\n",
       "      <td>0.516169</td>\n",
       "      <td>2.896374</td>\n",
       "      <td>25.532565</td>\n",
       "      <td>6162.084652</td>\n",
       "      <td>1.966078</td>\n",
       "      <td>595.935104</td>\n",
       "      <td>1.403829</td>\n",
       "      <td>0.078343</td>\n",
       "      <td>0.040039</td>\n",
       "      <td>9.385735</td>\n",
       "      <td>0.109501</td>\n",
       "      <td>0.512241</td>\n",
       "      <td>NaN</td>\n",
       "      <td>0.056980</td>\n",
       "      <td>9.325769e+03</td>\n",
       "      <td>103.411497</td>\n",
       "      <td>0.641415</td>\n",
       "    </tr>\n",
       "    <tr>\n",
       "      <th>min</th>\n",
       "      <td>0.626226</td>\n",
       "      <td>0.000489</td>\n",
       "      <td>0.021855</td>\n",
       "      <td>0.000738</td>\n",
       "      <td>0.004466</td>\n",
       "      <td>0.081882</td>\n",
       "      <td>0.999956</td>\n",
       "      <td>0.495569</td>\n",
       "      <td>1.000000</td>\n",
       "      <td>0.000000</td>\n",
       "      <td>5.000000</td>\n",
       "      <td>3.200000</td>\n",
       "      <td>0.000000</td>\n",
       "      <td>0.000000</td>\n",
       "      <td>0.002500</td>\n",
       "      <td>0.001000</td>\n",
       "      <td>0.000166</td>\n",
       "      <td>NaN</td>\n",
       "      <td>0.000128</td>\n",
       "      <td>1.810067e+02</td>\n",
       "      <td>0.000517</td>\n",
       "      <td>-5.991465</td>\n",
       "    </tr>\n",
       "    <tr>\n",
       "      <th>25%</th>\n",
       "      <td>2.536714</td>\n",
       "      <td>0.089623</td>\n",
       "      <td>5.120506</td>\n",
       "      <td>82.334880</td>\n",
       "      <td>91.947943</td>\n",
       "      <td>2.068948</td>\n",
       "      <td>2.864438</td>\n",
       "      <td>4.040317</td>\n",
       "      <td>6292.000000</td>\n",
       "      <td>0.000000</td>\n",
       "      <td>215.000000</td>\n",
       "      <td>14.400000</td>\n",
       "      <td>0.000000</td>\n",
       "      <td>0.000000</td>\n",
       "      <td>2.770000</td>\n",
       "      <td>0.053000</td>\n",
       "      <td>1.082523</td>\n",
       "      <td>NaN</td>\n",
       "      <td>0.181231</td>\n",
       "      <td>1.475726e+03</td>\n",
       "      <td>94.301261</td>\n",
       "      <td>1.018847</td>\n",
       "    </tr>\n",
       "    <tr>\n",
       "      <th>50%</th>\n",
       "      <td>2.750859</td>\n",
       "      <td>0.138543</td>\n",
       "      <td>9.389963</td>\n",
       "      <td>160.438430</td>\n",
       "      <td>183.669900</td>\n",
       "      <td>2.363897</td>\n",
       "      <td>3.167516</td>\n",
       "      <td>4.562581</td>\n",
       "      <td>7577.000000</td>\n",
       "      <td>0.000000</td>\n",
       "      <td>496.000000</td>\n",
       "      <td>15.300000</td>\n",
       "      <td>0.000000</td>\n",
       "      <td>0.000000</td>\n",
       "      <td>3.956000</td>\n",
       "      <td>0.079000</td>\n",
       "      <td>1.384935</td>\n",
       "      <td>NaN</td>\n",
       "      <td>0.216024</td>\n",
       "      <td>1.666483e+03</td>\n",
       "      <td>186.826667</td>\n",
       "      <td>1.375233</td>\n",
       "    </tr>\n",
       "    <tr>\n",
       "      <th>75%</th>\n",
       "      <td>3.092537</td>\n",
       "      <td>0.191141</td>\n",
       "      <td>13.738588</td>\n",
       "      <td>256.268387</td>\n",
       "      <td>271.762261</td>\n",
       "      <td>2.685811</td>\n",
       "      <td>3.468608</td>\n",
       "      <td>5.438518</td>\n",
       "      <td>9726.000000</td>\n",
       "      <td>0.000000</td>\n",
       "      <td>984.000000</td>\n",
       "      <td>16.100000</td>\n",
       "      <td>0.000000</td>\n",
       "      <td>0.000000</td>\n",
       "      <td>5.742000</td>\n",
       "      <td>0.187000</td>\n",
       "      <td>1.699385</td>\n",
       "      <td>NaN</td>\n",
       "      <td>0.243948</td>\n",
       "      <td>1.986419e+03</td>\n",
       "      <td>271.468299</td>\n",
       "      <td>1.747808</td>\n",
       "    </tr>\n",
       "    <tr>\n",
       "      <th>max</th>\n",
       "      <td>389.145964</td>\n",
       "      <td>0.984348</td>\n",
       "      <td>170.323647</td>\n",
       "      <td>359.990858</td>\n",
       "      <td>359.995174</td>\n",
       "      <td>40.465671</td>\n",
       "      <td>772.201080</td>\n",
       "      <td>7676.742943</td>\n",
       "      <td>72684.000000</td>\n",
       "      <td>9.000000</td>\n",
       "      <td>9325.000000</td>\n",
       "      <td>29.900000</td>\n",
       "      <td>1.000000</td>\n",
       "      <td>1.000000</td>\n",
       "      <td>939.400000</td>\n",
       "      <td>1.000000</td>\n",
       "      <td>39.507000</td>\n",
       "      <td>NaN</td>\n",
       "      <td>1.988877</td>\n",
       "      <td>2.803930e+06</td>\n",
       "      <td>359.999979</td>\n",
       "      <td>6.845241</td>\n",
       "    </tr>\n",
       "  </tbody>\n",
       "</table>\n",
       "</div>"
      ],
      "text/plain": [
       "                    a              e              i             om  \\\n",
       "count   137636.000000  137636.000000  137636.000000  137636.000000   \n",
       "unique            NaN            NaN            NaN            NaN   \n",
       "top               NaN            NaN            NaN            NaN   \n",
       "freq              NaN            NaN            NaN            NaN   \n",
       "mean         2.814613       0.145485      10.349182     169.827629   \n",
       "std          1.522740       0.077573       6.835111     102.713052   \n",
       "min          0.626226       0.000489       0.021855       0.000738   \n",
       "25%          2.536714       0.089623       5.120506      82.334880   \n",
       "50%          2.750859       0.138543       9.389963     160.438430   \n",
       "75%          3.092537       0.191141      13.738588     256.268387   \n",
       "max        389.145964       0.984348     170.323647     359.990858   \n",
       "\n",
       "                    w              q             ad          per_y  \\\n",
       "count   137636.000000  137636.000000  137636.000000  137636.000000   \n",
       "unique            NaN            NaN            NaN            NaN   \n",
       "top               NaN            NaN            NaN            NaN   \n",
       "freq              NaN            NaN            NaN            NaN   \n",
       "mean       181.904551       2.402609       3.226618       4.884248   \n",
       "std        103.556464       0.516169       2.896374      25.532565   \n",
       "min          0.004466       0.081882       0.999956       0.495569   \n",
       "25%         91.947943       2.068948       2.864438       4.040317   \n",
       "50%        183.669900       2.363897       3.167516       4.562581   \n",
       "75%        271.762261       2.685811       3.468608       5.438518   \n",
       "max        359.995174      40.465671     772.201080    7676.742943   \n",
       "\n",
       "             data_arc  condition_code     n_obs_used              H  \\\n",
       "count   137636.000000   137636.000000  137636.000000  137636.000000   \n",
       "unique            NaN             NaN            NaN            NaN   \n",
       "top               NaN             NaN            NaN            NaN   \n",
       "freq              NaN             NaN            NaN            NaN   \n",
       "mean      8969.818601        0.485207     675.027740      15.177041   \n",
       "std       6162.084652        1.966078     595.935104       1.403829   \n",
       "min          1.000000        0.000000       5.000000       3.200000   \n",
       "25%       6292.000000        0.000000     215.000000      14.400000   \n",
       "50%       7577.000000        0.000000     496.000000      15.300000   \n",
       "75%       9726.000000        0.000000     984.000000      16.100000   \n",
       "max      72684.000000        9.000000    9325.000000      29.900000   \n",
       "\n",
       "                  neo            pha       diameter         albedo  \\\n",
       "count   137636.000000  137636.000000  137636.000000  137636.000000   \n",
       "unique            NaN            NaN            NaN            NaN   \n",
       "top               NaN            NaN            NaN            NaN   \n",
       "freq              NaN            NaN            NaN            NaN   \n",
       "mean         0.006176       0.001606       5.483228       0.130066   \n",
       "std          0.078343       0.040039       9.385735       0.109501   \n",
       "min          0.000000       0.000000       0.002500       0.001000   \n",
       "25%          0.000000       0.000000       2.770000       0.053000   \n",
       "50%          0.000000       0.000000       3.956000       0.079000   \n",
       "75%          0.000000       0.000000       5.742000       0.187000   \n",
       "max          1.000000       1.000000     939.400000       1.000000   \n",
       "\n",
       "                 moid   class              n           per             ma  \\\n",
       "count   137636.000000  137636  137636.000000  1.376360e+05  137636.000000   \n",
       "unique            NaN      11            NaN           NaN            NaN   \n",
       "top               NaN     MBA            NaN           NaN            NaN   \n",
       "freq              NaN  126390            NaN           NaN            NaN   \n",
       "mean         1.420145     NaN       0.219640  1.783972e+03     183.116785   \n",
       "std          0.512241     NaN       0.056980  9.325769e+03     103.411497   \n",
       "min          0.000166     NaN       0.000128  1.810067e+02       0.000517   \n",
       "25%          1.082523     NaN       0.181231  1.475726e+03      94.301261   \n",
       "50%          1.384935     NaN       0.216024  1.666483e+03     186.826667   \n",
       "75%          1.699385     NaN       0.243948  1.986419e+03     271.468299   \n",
       "max         39.507000     NaN       1.988877  2.803930e+06     359.999979   \n",
       "\n",
       "         diameter_log  \n",
       "count   137636.000000  \n",
       "unique            NaN  \n",
       "top               NaN  \n",
       "freq              NaN  \n",
       "mean         1.421174  \n",
       "std          0.641415  \n",
       "min         -5.991465  \n",
       "25%          1.018847  \n",
       "50%          1.375233  \n",
       "75%          1.747808  \n",
       "max          6.845241  "
      ]
     },
     "execution_count": 24,
     "metadata": {},
     "output_type": "execute_result"
    }
   ],
   "source": [
    "df.describe(include=\"all\")"
   ]
  },
  {
   "cell_type": "code",
   "execution_count": 25,
   "metadata": {},
   "outputs": [
    {
     "data": {
      "text/html": [
       "<div>\n",
       "<style scoped>\n",
       "    .dataframe tbody tr th:only-of-type {\n",
       "        vertical-align: middle;\n",
       "    }\n",
       "\n",
       "    .dataframe tbody tr th {\n",
       "        vertical-align: top;\n",
       "    }\n",
       "\n",
       "    .dataframe thead th {\n",
       "        text-align: right;\n",
       "    }\n",
       "</style>\n",
       "<table border=\"1\" class=\"dataframe\">\n",
       "  <thead>\n",
       "    <tr style=\"text-align: right;\">\n",
       "      <th></th>\n",
       "      <th>a</th>\n",
       "      <th>e</th>\n",
       "      <th>i</th>\n",
       "      <th>om</th>\n",
       "      <th>w</th>\n",
       "      <th>q</th>\n",
       "      <th>ad</th>\n",
       "      <th>per_y</th>\n",
       "      <th>data_arc</th>\n",
       "      <th>condition_code</th>\n",
       "      <th>n_obs_used</th>\n",
       "      <th>H</th>\n",
       "      <th>neo</th>\n",
       "      <th>pha</th>\n",
       "      <th>diameter</th>\n",
       "      <th>albedo</th>\n",
       "      <th>moid</th>\n",
       "      <th>class</th>\n",
       "      <th>n</th>\n",
       "      <th>per</th>\n",
       "      <th>ma</th>\n",
       "      <th>diameter_log</th>\n",
       "    </tr>\n",
       "  </thead>\n",
       "  <tbody>\n",
       "    <tr>\n",
       "      <th>0</th>\n",
       "      <td>2.769165</td>\n",
       "      <td>0.076009</td>\n",
       "      <td>10.594067</td>\n",
       "      <td>80.305532</td>\n",
       "      <td>73.597694</td>\n",
       "      <td>2.558684</td>\n",
       "      <td>2.979647</td>\n",
       "      <td>4.608202</td>\n",
       "      <td>8822.0</td>\n",
       "      <td>0</td>\n",
       "      <td>1002</td>\n",
       "      <td>3.34</td>\n",
       "      <td>0</td>\n",
       "      <td>0</td>\n",
       "      <td>939.400</td>\n",
       "      <td>0.0900</td>\n",
       "      <td>1.59478</td>\n",
       "      <td>MBA</td>\n",
       "      <td>0.213885</td>\n",
       "      <td>1683.145708</td>\n",
       "      <td>77.372096</td>\n",
       "      <td>6.845241</td>\n",
       "    </tr>\n",
       "    <tr>\n",
       "      <th>1</th>\n",
       "      <td>2.772466</td>\n",
       "      <td>0.230337</td>\n",
       "      <td>34.836234</td>\n",
       "      <td>173.080063</td>\n",
       "      <td>310.048857</td>\n",
       "      <td>2.133865</td>\n",
       "      <td>3.411067</td>\n",
       "      <td>4.616444</td>\n",
       "      <td>72318.0</td>\n",
       "      <td>0</td>\n",
       "      <td>8490</td>\n",
       "      <td>4.13</td>\n",
       "      <td>0</td>\n",
       "      <td>0</td>\n",
       "      <td>545.000</td>\n",
       "      <td>0.1010</td>\n",
       "      <td>1.23324</td>\n",
       "      <td>MBA</td>\n",
       "      <td>0.213503</td>\n",
       "      <td>1686.155999</td>\n",
       "      <td>59.699133</td>\n",
       "      <td>6.300786</td>\n",
       "    </tr>\n",
       "    <tr>\n",
       "      <th>2</th>\n",
       "      <td>2.669150</td>\n",
       "      <td>0.256942</td>\n",
       "      <td>12.988919</td>\n",
       "      <td>169.852760</td>\n",
       "      <td>248.138626</td>\n",
       "      <td>1.983332</td>\n",
       "      <td>3.354967</td>\n",
       "      <td>4.360814</td>\n",
       "      <td>72684.0</td>\n",
       "      <td>0</td>\n",
       "      <td>7104</td>\n",
       "      <td>5.33</td>\n",
       "      <td>0</td>\n",
       "      <td>0</td>\n",
       "      <td>246.596</td>\n",
       "      <td>0.2140</td>\n",
       "      <td>1.03454</td>\n",
       "      <td>MBA</td>\n",
       "      <td>0.226019</td>\n",
       "      <td>1592.787285</td>\n",
       "      <td>34.925016</td>\n",
       "      <td>5.507751</td>\n",
       "    </tr>\n",
       "    <tr>\n",
       "      <th>3</th>\n",
       "      <td>2.361418</td>\n",
       "      <td>0.088721</td>\n",
       "      <td>7.141771</td>\n",
       "      <td>103.810804</td>\n",
       "      <td>150.728541</td>\n",
       "      <td>2.151909</td>\n",
       "      <td>2.570926</td>\n",
       "      <td>3.628837</td>\n",
       "      <td>24288.0</td>\n",
       "      <td>0</td>\n",
       "      <td>9325</td>\n",
       "      <td>3.20</td>\n",
       "      <td>0</td>\n",
       "      <td>0</td>\n",
       "      <td>525.400</td>\n",
       "      <td>0.4228</td>\n",
       "      <td>1.13948</td>\n",
       "      <td>MBA</td>\n",
       "      <td>0.271609</td>\n",
       "      <td>1325.432765</td>\n",
       "      <td>95.861936</td>\n",
       "      <td>6.264160</td>\n",
       "    </tr>\n",
       "    <tr>\n",
       "      <th>4</th>\n",
       "      <td>2.574249</td>\n",
       "      <td>0.191095</td>\n",
       "      <td>5.366988</td>\n",
       "      <td>141.576605</td>\n",
       "      <td>358.687607</td>\n",
       "      <td>2.082324</td>\n",
       "      <td>3.066174</td>\n",
       "      <td>4.130323</td>\n",
       "      <td>63507.0</td>\n",
       "      <td>0</td>\n",
       "      <td>2916</td>\n",
       "      <td>6.85</td>\n",
       "      <td>0</td>\n",
       "      <td>0</td>\n",
       "      <td>106.699</td>\n",
       "      <td>0.2740</td>\n",
       "      <td>1.09589</td>\n",
       "      <td>MBA</td>\n",
       "      <td>0.238632</td>\n",
       "      <td>1508.600458</td>\n",
       "      <td>282.366289</td>\n",
       "      <td>4.670012</td>\n",
       "    </tr>\n",
       "  </tbody>\n",
       "</table>\n",
       "</div>"
      ],
      "text/plain": [
       "          a         e          i          om           w         q        ad  \\\n",
       "0  2.769165  0.076009  10.594067   80.305532   73.597694  2.558684  2.979647   \n",
       "1  2.772466  0.230337  34.836234  173.080063  310.048857  2.133865  3.411067   \n",
       "2  2.669150  0.256942  12.988919  169.852760  248.138626  1.983332  3.354967   \n",
       "3  2.361418  0.088721   7.141771  103.810804  150.728541  2.151909  2.570926   \n",
       "4  2.574249  0.191095   5.366988  141.576605  358.687607  2.082324  3.066174   \n",
       "\n",
       "      per_y  data_arc  condition_code  n_obs_used     H  neo  pha  diameter  \\\n",
       "0  4.608202    8822.0               0        1002  3.34    0    0   939.400   \n",
       "1  4.616444   72318.0               0        8490  4.13    0    0   545.000   \n",
       "2  4.360814   72684.0               0        7104  5.33    0    0   246.596   \n",
       "3  3.628837   24288.0               0        9325  3.20    0    0   525.400   \n",
       "4  4.130323   63507.0               0        2916  6.85    0    0   106.699   \n",
       "\n",
       "   albedo     moid class         n          per          ma  diameter_log  \n",
       "0  0.0900  1.59478   MBA  0.213885  1683.145708   77.372096      6.845241  \n",
       "1  0.1010  1.23324   MBA  0.213503  1686.155999   59.699133      6.300786  \n",
       "2  0.2140  1.03454   MBA  0.226019  1592.787285   34.925016      5.507751  \n",
       "3  0.4228  1.13948   MBA  0.271609  1325.432765   95.861936      6.264160  \n",
       "4  0.2740  1.09589   MBA  0.238632  1508.600458  282.366289      4.670012  "
      ]
     },
     "execution_count": 25,
     "metadata": {},
     "output_type": "execute_result"
    }
   ],
   "source": [
    "df.head()"
   ]
  },
  {
   "cell_type": "markdown",
   "metadata": {},
   "source": [
    "# EDA"
   ]
  },
  {
   "cell_type": "code",
   "execution_count": 26,
   "metadata": {},
   "outputs": [
    {
     "name": "stderr",
     "output_type": "stream",
     "text": [
      "C:\\Users\\Blaschko\\Anaconda3\\lib\\site-packages\\seaborn\\_decorators.py:43: FutureWarning: Pass the following variables as keyword args: x, y. From version 0.12, the only valid positional argument will be `data`, and passing other arguments without an explicit keyword will result in an error or misinterpretation.\n",
      "  FutureWarning\n"
     ]
    },
    {
     "data": {
      "image/png": "[encoded data removed]",
      "text/plain": [
       "<Figure size 432x288 with 1 Axes>"
      ]
     },
     "metadata": {
      "needs_background": "light"
     },
     "output_type": "display_data"
    }
   ],
   "source": [
    "sns.barplot(\"neo\",\"diameter_log\",data =df);"
   ]
  },
  {
   "cell_type": "code",
   "execution_count": 27,
   "metadata": {},
   "outputs": [
    {
     "name": "stderr",
     "output_type": "stream",
     "text": [
      "C:\\Users\\Blaschko\\Anaconda3\\lib\\site-packages\\seaborn\\_decorators.py:43: FutureWarning: Pass the following variables as keyword args: x, y. From version 0.12, the only valid positional argument will be `data`, and passing other arguments without an explicit keyword will result in an error or misinterpretation.\n",
      "  FutureWarning\n"
     ]
    },
    {
     "data": {
      "image/png": "[encoded data removed]",
      "text/plain": [
       "<Figure size 432x288 with 1 Axes>"
      ]
     },
     "metadata": {
      "needs_background": "light"
     },
     "output_type": "display_data"
    }
   ],
   "source": [
    "# Nehmen wir nicht weil es sich aus a, q und e zusammensetzt\n",
    "sns.barplot(\"class\",\"diameter_log\",data =df);"
   ]
  },
  {
   "cell_type": "code",
   "execution_count": 28,
   "metadata": {},
   "outputs": [
    {
     "name": "stderr",
     "output_type": "stream",
     "text": [
      "C:\\Users\\Blaschko\\Anaconda3\\lib\\site-packages\\seaborn\\_decorators.py:43: FutureWarning: Pass the following variables as keyword args: x, y. From version 0.12, the only valid positional argument will be `data`, and passing other arguments without an explicit keyword will result in an error or misinterpretation.\n",
      "  FutureWarning\n"
     ]
    },
    {
     "data": {
      "image/png": "[encoded data removed]",
      "text/plain": [
       "<Figure size 432x288 with 1 Axes>"
      ]
     },
     "metadata": {
      "needs_background": "light"
     },
     "output_type": "display_data"
    }
   ],
   "source": [
    "sns.barplot(\"condition_code\",\"diameter_log\",data =df);"
   ]
  },
  {
   "cell_type": "code",
   "execution_count": 29,
   "metadata": {},
   "outputs": [
    {
     "name": "stderr",
     "output_type": "stream",
     "text": [
      "C:\\Users\\Blaschko\\Anaconda3\\lib\\site-packages\\seaborn\\distributions.py:2551: FutureWarning: `distplot` is a deprecated function and will be removed in a future version. Please adapt your code to use either `displot` (a figure-level function with similar flexibility) or `histplot` (an axes-level function for histograms).\n",
      "  warnings.warn(msg, FutureWarning)\n"
     ]
    },
    {
     "data": {
      "text/plain": [
       "<AxesSubplot:xlabel='diameter_log', ylabel='Density'>"
      ]
     },
     "execution_count": 29,
     "metadata": {},
     "output_type": "execute_result"
    },
    {
     "data": {
      "image/png": "[encoded data removed]",
      "text/plain": [
       "<Figure size 432x288 with 1 Axes>"
      ]
     },
     "metadata": {
      "needs_background": "light"
     },
     "output_type": "display_data"
    }
   ],
   "source": [
    "sns.distplot(df[\"diameter_log\"])"
   ]
  },
  {
   "cell_type": "code",
   "execution_count": 30,
   "metadata": {},
   "outputs": [
    {
     "data": {
      "image/png": "[encoded data removed]",
      "text/plain": [
       "<Figure size 720x720 with 1 Axes>"
      ]
     },
     "metadata": {
      "needs_background": "light"
     },
     "output_type": "display_data"
    }
   ],
   "source": [
    "plt.figure(figsize=(10,10))\n",
    "plt.hist(df[\"diameter_log\"], bins=200)\n",
    "#plt.xscale(value=\"log\")\n",
    "plt.yscale(value=\"log\");"
   ]
  },
  {
   "cell_type": "code",
   "execution_count": 31,
   "metadata": {},
   "outputs": [],
   "source": [
    "# sns.pairplot(df.iloc[:,:6], palette = 'coolwarm');"
   ]
  },
  {
   "cell_type": "code",
   "execution_count": 32,
   "metadata": {},
   "outputs": [],
   "source": [
    "df_num = df.select_dtypes(exclude='object')"
   ]
  },
  {
   "cell_type": "code",
   "execution_count": 33,
   "metadata": {},
   "outputs": [
    {
     "data": {
      "image/png": "[encoded data removed]",
      "text/plain": [
       "<Figure size 1440x1440 with 2 Axes>"
      ]
     },
     "metadata": {
      "needs_background": "light"
     },
     "output_type": "display_data"
    }
   ],
   "source": [
    "colormap = plt.cm.viridis\n",
    "plt.figure(figsize=(20,20))\n",
    "sns.heatmap(df_num.astype(float).corr(),linewidths=0.1,vmax=1.0, square=True, \n",
    "            cmap=colormap, linecolor='white', annot=True);"
   ]
  },
  {
   "cell_type": "markdown",
   "metadata": {},
   "source": [
    "# Machine Learning"
   ]
  },
  {
   "cell_type": "markdown",
   "metadata": {},
   "source": [
    "## Lineare Regression nur mit H"
   ]
  },
  {
   "cell_type": "code",
   "execution_count": 100,
   "metadata": {},
   "outputs": [],
   "source": [
    "Y = df[\"diameter_log\"]\n",
    "# X = df.drop([\"diameter_log\", \"diameter\"], axis=1)\n",
    "X1 = df[\"H\"].values.reshape(-1, 1)"
   ]
  },
  {
   "cell_type": "code",
   "execution_count": 101,
   "metadata": {},
   "outputs": [
    {
     "name": "stdout",
     "output_type": "stream",
     "text": [
      "Lineare Regression nur mit H:\n",
      "\n",
      "Test score:  0.6964943243636285\n",
      "Train score:  0.6919211304803008\n"
     ]
    }
   ],
   "source": [
    "\"\"\" Lineare Regression nur mit H\"\"\"\n",
    "X_train, X_test, y_train, y_test = train_test_split(X1, Y, test_size = 0.2) # , stratify=Y\n",
    "\n",
    "# Initiate and fit model\n",
    "model_1 = lr()\n",
    "model_1.fit(X_train, y_train)\n",
    "\n",
    "# print scores:\n",
    "print(\"Lineare Regression nur mit H:\")\n",
    "print(\"\")\n",
    "print(\"Test score: \", model_1.score(X_test, y_test))\n",
    "print(\"Train score: \", model_1.score(X_train, y_train))"
   ]
  },
  {
   "cell_type": "code",
   "execution_count": 102,
   "metadata": {},
   "outputs": [
    {
     "data": {
      "text/plain": [
       "0.5500033688757353"
      ]
     },
     "execution_count": 102,
     "metadata": {},
     "output_type": "execute_result"
    }
   ],
   "source": [
    "cross_val_lr = np.mean(cross_val_score(lr(), X1, Y))\n",
    "cross_val_lr"
   ]
  },
  {
   "cell_type": "code",
   "execution_count": 103,
   "metadata": {},
   "outputs": [
    {
     "name": "stdout",
     "output_type": "stream",
     "text": [
      "Absolute Error:  0.30361192696881706\n",
      "Quadratic Error:  0.12636772479455102\n"
     ]
    }
   ],
   "source": [
    "\"\"\" Quadratic and absolute error\"\"\"\n",
    "y_pred_lr = model_1.predict(X_test)\n",
    "\n",
    "quadratic_error = np.mean((y_test - y_pred_lr)**2)\n",
    "absolute_error = np.mean(np.abs(y_test - y_pred_lr))\n",
    "\n",
    "print(\"Absolute Error: \", absolute_error)\n",
    "print(\"Quadratic Error: \", quadratic_error)"
   ]
  },
  {
   "cell_type": "code",
   "execution_count": 37,
   "metadata": {},
   "outputs": [
    {
     "data": {
      "image/png": "[encoded data removed]",
      "text/plain": [
       "<Figure size 1440x576 with 2 Axes>"
      ]
     },
     "metadata": {
      "needs_background": "light"
     },
     "output_type": "display_data"
    }
   ],
   "source": [
    "xx = np.linspace(0, 30, 100)\n",
    "yp_x = model_1.predict(xx.reshape(-1, 1))\n",
    "\n",
    "fig, axes = plt.subplots(1, 2, figsize=(20, 8))\n",
    "\n",
    "axes[0].scatter(X_train, y_train, c='orange', label=\"Train\")\n",
    "axes[0].plot(xx, yp_x, c='black', label=\"Regression\")\n",
    "axes[0].set_xlabel(\"Magnitude(H)\")\n",
    "axes[0].set_ylabel(\"Logarithmischer Diameter\")\n",
    "axes[0].legend(prop={'size': 20})\n",
    "\n",
    "axes[1].scatter(X_test, y_test, c= \"blue\", label=\"Test\")\n",
    "axes[1].plot(xx, yp_x, c='black', label=\"Regression\")\n",
    "axes[1].set_xlabel(\"Magnitude(H)\")\n",
    "axes[1].set_ylabel(\"Logarithmischer Diameter\")\n",
    "axes[1].legend(prop={'size': 20});"
   ]
  },
  {
   "cell_type": "markdown",
   "metadata": {},
   "source": [
    "## Multivariate Regression mit 2 Merkmalen"
   ]
  },
  {
   "cell_type": "code",
   "execution_count": 104,
   "metadata": {},
   "outputs": [],
   "source": [
    "Y = df[\"diameter_log\"]\n",
    "X_trial = df[[\"H\", \"n\"]].values"
   ]
  },
  {
   "cell_type": "code",
   "execution_count": 105,
   "metadata": {},
   "outputs": [
    {
     "name": "stdout",
     "output_type": "stream",
     "text": [
      "Lineare Regression mit H und n:\n",
      "\n",
      "Test score:  0.7594638322951681\n",
      "Train score:  0.7649703833817163\n"
     ]
    }
   ],
   "source": [
    "\"\"\" Lineare Regression mit \"H\" und \"n\" \"\"\"\n",
    "X_train, X_test, y_train, y_test = train_test_split(X_trial, Y, test_size = 0.2)\n",
    "\n",
    "# Initiate and fit model\n",
    "model_trial = lr()\n",
    "model_trial.fit(X_train, y_train)\n",
    "\n",
    "# print scores:\n",
    "print(\"Lineare Regression mit H und n:\")\n",
    "print(\"\")\n",
    "print(\"Test score: \", model_trial.score(X_test, y_test))\n",
    "print(\"Train score: \", model_trial.score(X_train, y_train))"
   ]
  },
  {
   "cell_type": "code",
   "execution_count": 106,
   "metadata": {},
   "outputs": [
    {
     "name": "stdout",
     "output_type": "stream",
     "text": [
      "Absolute Error:  0.2559464474163306\n",
      "Quadratic Error:  0.09634132765190707\n"
     ]
    }
   ],
   "source": [
    "\"\"\" Quadratic and absolute error\"\"\"\n",
    "y_pred_trial = model_trial.predict(X_test)\n",
    "\n",
    "quadratic_error = np.mean((y_test - y_pred_trial)**2)\n",
    "absolute_error = np.mean(np.abs(y_test - y_pred_trial))\n",
    "\n",
    "print(\"Absolute Error: \", absolute_error)\n",
    "print(\"Quadratic Error: \", quadratic_error)"
   ]
  },
  {
   "cell_type": "markdown",
   "metadata": {},
   "source": [
    "**Versuch (1) 3D Plot**\n",
    "x_axis = X_trial[0]\n",
    "y_axis = X_trial[1]\n",
    "z_axis = Y\n",
    "\n",
    "x_predictor = np.linspace(0, 3, 100)\n",
    "y_predictor = np.linspace(0, 4, 100)\n",
    "\n",
    "xx_pred, yy_pred = np.meshgrid(x_predictor, y_predictor)\n",
    "model_viz = np.array([xx_pred.flatten(), yy_pred.flatten()]).T\n",
    "\n",
    "##### Make predictions\n",
    "predicted_model_trial = model_trial.predict(model_viz)\n",
    "\n",
    "fig = plt.figure(figsize=(8, 8))\n",
    "ax = plt.axes(projection=\"3d\")\n",
    "#ax.scatter(xx_pred.flatten(), yy_pred.flatten(), \n",
    "          # predicted_model_trial, facecolor=(0,0,0,0), s=20, edgecolor='#70b3f0')\n",
    "ax.plot(x_axis, y_axis, z_axis)\n",
    "#ax.contour3D(X, Y, Z, 50, cmap=\"binary\")\n",
    "\n",
    "ax.set_xlabel(\"x\")\n",
    "ax.set_ylabel(\"y\")\n",
    "ax.set_zlabel(\"z\");"
   ]
  },
  {
   "cell_type": "markdown",
   "metadata": {},
   "source": [
    "**Versuch (2) 3D Plot**\n",
    "\n",
    "xx_2 = np.linspace(0, 30, 100)\n",
    "xx2_2 = np.linspace(0, 30, 100)\n",
    "\n",
    "yp_2_x = model_trial.predict(xx.reshape(-1, 1))\n",
    "\n",
    "fig, axes = plt.subplots(1, 2, figsize=(20, 8))\n",
    "\n",
    "#axes[0].scatter(X_train, y_train, c='orange', label=\"Train\")\n",
    "axes[0].plot(xx_2, yp_2_x, c='black', label=\"Regression\")\n",
    "#axes[0].set_xlabel(\"Magnitude(H)\")\n",
    "axes[0].set_ylabel(\"Logarithmischer Diameter\")\n",
    "axes[0].legend(prop={'size': 20})\n",
    "\n",
    "\"\"\"axes[1].scatter(X_test, y_test, c= \"blue\", label=\"Test\")\n",
    "axes[1].plot(xx, yp_x, c='black', label=\"Regression\")\n",
    "axes[1].set_xlabel(\"Magnitude(H)\")\n",
    "axes[1].set_ylabel(\"Logarithmischer Diameter\")\n",
    "axes[1].legend(prop={'size': 20});\"\"\""
   ]
  },
  {
   "cell_type": "markdown",
   "metadata": {},
   "source": [
    "## Multivariate Regression mit 6 Merkmalen"
   ]
  },
  {
   "cell_type": "code",
   "execution_count": 107,
   "metadata": {},
   "outputs": [],
   "source": [
    "Y = df[\"diameter_log\"]\n",
    "X2 = df[[\"H\", \"q\", \"data_arc\", \"n_obs_used\", \"moid\", \"n\"]].values"
   ]
  },
  {
   "cell_type": "code",
   "execution_count": 108,
   "metadata": {},
   "outputs": [
    {
     "name": "stdout",
     "output_type": "stream",
     "text": [
      "Lineare Regression mit H, q, data_arc, n_obs_used, moid und n:\n",
      "\n",
      "Test score:  0.7808860066974458\n",
      "Train score:  0.7811259223317003\n"
     ]
    }
   ],
   "source": [
    "\"\"\" Lineare Regression mit \"H\", \"q\", \"data_arc\", \"n_obs_used\", \"moid\" und \"n\" \"\"\"\n",
    "X_train, X_test, y_train, y_test = train_test_split(X2, Y, test_size = 0.2)\n",
    "\n",
    "# Initiate and fit model\n",
    "model_2 = lr()\n",
    "model_2.fit(X_train, y_train)\n",
    "\n",
    "# print scores:\n",
    "print(\"Lineare Regression mit H, q, data_arc, n_obs_used, moid und n:\")\n",
    "print(\"\")\n",
    "print(\"Test score: \", model_2.score(X_test, y_test))\n",
    "print(\"Train score: \", model_2.score(X_train, y_train))"
   ]
  },
  {
   "cell_type": "code",
   "execution_count": 109,
   "metadata": {},
   "outputs": [
    {
     "data": {
      "text/plain": [
       "0.662127468719261"
      ]
     },
     "execution_count": 109,
     "metadata": {},
     "output_type": "execute_result"
    }
   ],
   "source": [
    "cross_val_mlr = np.mean(cross_val_score(lr(), X2, Y))\n",
    "cross_val_mlr"
   ]
  },
  {
   "cell_type": "code",
   "execution_count": 110,
   "metadata": {},
   "outputs": [
    {
     "name": "stdout",
     "output_type": "stream",
     "text": [
      "Absolute Error:  0.24561411625245624\n",
      "Quadratic Error:  0.08978888105066725\n"
     ]
    }
   ],
   "source": [
    "\"\"\" Quadratic and absolute error\"\"\"\n",
    "y_pred_6 = model_2.predict(X_test)\n",
    "\n",
    "quadratic_error = np.mean((y_test - y_pred_6)**2)\n",
    "absolute_error = np.mean(np.abs(y_test - y_pred_6))\n",
    "\n",
    "print(\"Absolute Error: \", absolute_error)\n",
    "print(\"Quadratic Error: \", quadratic_error)"
   ]
  },
  {
   "cell_type": "markdown",
   "metadata": {},
   "source": [
    "## Polynomiale Regression mit\n",
    "\"H\", \"q\", \"data_arc\", \"n_obs_used\", \"moid\" und degree=2"
   ]
  },
  {
   "cell_type": "code",
   "execution_count": 111,
   "metadata": {},
   "outputs": [],
   "source": [
    "Y = df[\"diameter_log\"]\n",
    "X_klein = df[[\"H\", \"q\", \"data_arc\", \"n_obs_used\", \"moid\"]].values"
   ]
  },
  {
   "cell_type": "code",
   "execution_count": 112,
   "metadata": {
    "scrolled": true
   },
   "outputs": [
    {
     "name": "stdout",
     "output_type": "stream",
     "text": [
      "Polynomiale Regression mit ohne 'n' und degree 2:\n",
      "\n",
      "Test score:  0.7882515650123532\n",
      "Train score:  0.7893018882892078\n"
     ]
    }
   ],
   "source": [
    "X_train, X_test, y_train, y_test = train_test_split(X_klein, Y, test_size = 0.2)\n",
    "\n",
    "# Mit Pipeline\n",
    "pf_1 = make_pipeline(PolynomialFeatures(degree=2),lr())\n",
    "pf_1.fit(X_train,y_train)\n",
    "\"\"\"\n",
    "# Ohne Pipeline\n",
    "pf_1 = PolynomialFeatures(degree = 2)\n",
    "\n",
    "# 1. Schritt - Daten transformieren/expandieren\n",
    "pf.fit(X_train)\n",
    "X_train_transformed = pf.transform(X_train)\n",
    "X_test_transformed = pf.transform(X_test)\n",
    "\n",
    "# 2. Schritt - Lineares Modell fitten\n",
    "model = lr()\n",
    "model.fit(X_train_transformed, y_train)\n",
    "\"\"\"\n",
    "\n",
    "# 3.Schritt Validierung\n",
    "# print scores:\n",
    "print(\"Polynomiale Regression mit ohne 'n' und degree 2:\")\n",
    "print(\"\")\n",
    "print(\"Test score: \", pf_1.score(X_test, y_test))\n",
    "print(\"Train score: \", pf_1.score(X_train, y_train))"
   ]
  },
  {
   "cell_type": "code",
   "execution_count": 113,
   "metadata": {},
   "outputs": [
    {
     "data": {
      "text/plain": [
       "0.6369191696238645"
      ]
     },
     "execution_count": 113,
     "metadata": {},
     "output_type": "execute_result"
    }
   ],
   "source": [
    "cross_val_plr = np.mean(cross_val_score(lr(), X_klein, Y))\n",
    "cross_val_plr"
   ]
  },
  {
   "cell_type": "code",
   "execution_count": 114,
   "metadata": {},
   "outputs": [
    {
     "name": "stdout",
     "output_type": "stream",
     "text": [
      "Absolute Error:  0.2413914019761394\n",
      "Quadratic Error:  0.08770724957547618\n"
     ]
    }
   ],
   "source": [
    "\"\"\" Quadratic and absolute error\"\"\"\n",
    "y_pred_pf_1 = pf_1.predict(X_test)\n",
    "\n",
    "quadratic_error = np.mean((y_test - y_pred_pf_1)**2)\n",
    "absolute_error = np.mean(np.abs(y_test - y_pred_pf_1))\n",
    "\n",
    "print(\"Absolute Error: \", absolute_error)\n",
    "print(\"Quadratic Error: \", quadratic_error)"
   ]
  },
  {
   "cell_type": "markdown",
   "metadata": {},
   "source": [
    "## Multivariate Regression mit 10 Merkmalen"
   ]
  },
  {
   "cell_type": "code",
   "execution_count": 115,
   "metadata": {},
   "outputs": [],
   "source": [
    "Y = df[\"diameter_log\"]\n",
    "X3 = df[[\"H\",\"n\",\"moid\",\"n_obs_used\",\"data_arc\",\"q\",\"a\",\"e\",\"neo\",\"albedo\"]].values"
   ]
  },
  {
   "cell_type": "code",
   "execution_count": 116,
   "metadata": {},
   "outputs": [
    {
     "name": "stdout",
     "output_type": "stream",
     "text": [
      "Lineare Regression mit 10 Merkmalen:\n",
      "\n",
      "Test score:  0.9334009373429816\n",
      "Train score:  0.9341829562443019\n"
     ]
    }
   ],
   "source": [
    "\"\"\" Lineare Regression mit \"H\",\"n\",\"moid\",\"n_obs_used\",\"data_arc\",\"q\",\"a\",\"e\",\"neo\" und\n",
    "\"albedo\" \"\"\"\n",
    "X_train, X_test, y_train, y_test = train_test_split(X3, Y, test_size = 0.2)\n",
    "\n",
    "# Initiate and fit model\n",
    "model_2 = lr()\n",
    "model_2.fit(X_train, y_train)\n",
    "\n",
    "# print scores:\n",
    "print(\"Lineare Regression mit 10 Merkmalen:\")\n",
    "print(\"\")\n",
    "print(\"Test score: \", model_2.score(X_test, y_test))\n",
    "print(\"Train score: \", model_2.score(X_train, y_train))"
   ]
  },
  {
   "cell_type": "code",
   "execution_count": 117,
   "metadata": {},
   "outputs": [
    {
     "data": {
      "text/plain": [
       "0.9018268077609146"
      ]
     },
     "execution_count": 117,
     "metadata": {},
     "output_type": "execute_result"
    }
   ],
   "source": [
    "cross_val_mr10 = np.mean(cross_val_score(lr(), X3, Y))\n",
    "cross_val_mr10"
   ]
  },
  {
   "cell_type": "code",
   "execution_count": 118,
   "metadata": {},
   "outputs": [
    {
     "name": "stdout",
     "output_type": "stream",
     "text": [
      "Absolute Error:  0.11959010715396852\n",
      "Quadratic Error:  0.02709423555625618\n"
     ]
    }
   ],
   "source": [
    "\"\"\" Quadratic and absolute error\"\"\"\n",
    "y_pred_model_2 = model_2.predict(X_test)\n",
    "\n",
    "quadratic_error = np.mean((y_test - y_pred_model_2)**2)\n",
    "absolute_error = np.mean(np.abs(y_test - y_pred_model_2))\n",
    "\n",
    "print(\"Absolute Error: \", absolute_error)\n",
    "print(\"Quadratic Error: \", quadratic_error)"
   ]
  },
  {
   "cell_type": "markdown",
   "metadata": {},
   "source": [
    "## Multivariate Regression mit 11 Merkmalen"
   ]
  },
  {
   "cell_type": "code",
   "execution_count": 119,
   "metadata": {},
   "outputs": [],
   "source": [
    "Y = df[\"diameter_log\"]\n",
    "X_11 = df[[\"H\",\"n\",\"moid\",\"n_obs_used\",\"data_arc\",\"q\",\"a\",\"e\",\"neo\",\"albedo\", \n",
    "           \"condition_code\"]].values"
   ]
  },
  {
   "cell_type": "code",
   "execution_count": 120,
   "metadata": {},
   "outputs": [
    {
     "name": "stdout",
     "output_type": "stream",
     "text": [
      "Lineare Regression mit 11 Merkmalen:\n",
      "\n",
      "Test score:  0.9344334100235994\n",
      "Train score:  0.9349063002292624\n"
     ]
    }
   ],
   "source": [
    "\"\"\" Lineare Regression mit \"H\",\"n\",\"moid\",\"n_obs_used\",\"data_arc\",\"q\",\"a\",\"e\",\"neo\" und\n",
    "\"albedo\" \"\"\"\n",
    "X_train, X_test, y_train, y_test = train_test_split(X_11, Y, test_size = 0.2)\n",
    "\n",
    "# Initiate and fit model\n",
    "model_cc = lr()\n",
    "model_cc.fit(X_train, y_train)\n",
    "\n",
    "# print scores:\n",
    "print(\"Lineare Regression mit 11 Merkmalen:\")\n",
    "print(\"\")\n",
    "print(\"Test score: \", model_cc.score(X_test, y_test))\n",
    "print(\"Train score: \", model_cc.score(X_train, y_train))"
   ]
  },
  {
   "cell_type": "code",
   "execution_count": 121,
   "metadata": {},
   "outputs": [
    {
     "data": {
      "text/plain": [
       "0.9007218329269593"
      ]
     },
     "execution_count": 121,
     "metadata": {},
     "output_type": "execute_result"
    }
   ],
   "source": [
    "cross_val_cc = np.mean(cross_val_score(lr(), X_11, Y, cv=10))\n",
    "cross_val_cc"
   ]
  },
  {
   "cell_type": "code",
   "execution_count": 122,
   "metadata": {},
   "outputs": [
    {
     "name": "stdout",
     "output_type": "stream",
     "text": [
      "Absolute Error:  0.11942472658740919\n",
      "Quadratic Error:  0.027345232494341162\n"
     ]
    }
   ],
   "source": [
    "\"\"\" Quadratic and absolute error\"\"\"\n",
    "y_pred_cc = model_cc.predict(X_test)\n",
    "\n",
    "quadratic_error = np.mean((y_test - y_pred_cc)**2)\n",
    "absolute_error = np.mean(np.abs(y_test - y_pred_cc))\n",
    "\n",
    "print(\"Absolute Error: \", absolute_error)\n",
    "print(\"Quadratic Error: \", quadratic_error)"
   ]
  },
  {
   "cell_type": "markdown",
   "metadata": {},
   "source": [
    "## Polynomiale Regression mit 6 Merkmalen"
   ]
  },
  {
   "cell_type": "code",
   "execution_count": 123,
   "metadata": {},
   "outputs": [
    {
     "name": "stdout",
     "output_type": "stream",
     "text": [
      "Polynomiale Regression mit 6 Merkmalen und degree 2:\n",
      "\n",
      "Test score:  0.9580297771346628\n",
      "Train score:  0.9584527560703788\n"
     ]
    }
   ],
   "source": [
    "\"\"\" Polynomiale Regression nur mit \"H\", \"q\", \"data_arc\", \"n_obs_used\", \"moid\" und \"n\" \n",
    "degree 2\n",
    "\"\"\"\n",
    "X_train, X_test, y_train, y_test = train_test_split(X3, Y, test_size = 0.2)\n",
    "\n",
    "# Mit Pipeline\n",
    "pf_2 = make_pipeline(PolynomialFeatures(degree=2),lr())\n",
    "pf_2.fit(X_train,y_train)\n",
    "\n",
    "# 3.Schritt Validierung\n",
    "print(\"Polynomiale Regression mit 6 Merkmalen und degree 2:\")\n",
    "print(\"\")\n",
    "print(\"Test score: \", pf_2.score(X_test, y_test))\n",
    "print(\"Train score: \", pf_2.score(X_train, y_train))"
   ]
  },
  {
   "cell_type": "code",
   "execution_count": 124,
   "metadata": {},
   "outputs": [
    {
     "data": {
      "text/plain": [
       "0.31268718990869687"
      ]
     },
     "execution_count": 124,
     "metadata": {},
     "output_type": "execute_result"
    }
   ],
   "source": [
    "cross_val_pf6_cv5 = np.mean(cross_val_score(pf_2, X3, Y,cv=5))\n",
    "cross_val_pf6_cv5"
   ]
  },
  {
   "cell_type": "code",
   "execution_count": 125,
   "metadata": {
    "scrolled": true
   },
   "outputs": [
    {
     "data": {
      "text/plain": [
       "0.9058098897488236"
      ]
     },
     "execution_count": 125,
     "metadata": {},
     "output_type": "execute_result"
    }
   ],
   "source": [
    "cross_val_pf6_cv10 = np.mean(cross_val_score(pf_2, X3, Y,cv=10))\n",
    "cross_val_pf6_cv10"
   ]
  },
  {
   "cell_type": "code",
   "execution_count": 126,
   "metadata": {},
   "outputs": [
    {
     "name": "stdout",
     "output_type": "stream",
     "text": [
      "Absolute Error:  0.09178832234915625\n",
      "Quadratic Error:  0.017188116113501826\n"
     ]
    }
   ],
   "source": [
    "\"\"\" Quadratic and absolute error\"\"\"\n",
    "y_pred_poly_6 = pf_2.predict(X_test)\n",
    "\n",
    "quadratic_error = np.mean((y_test - y_pred_poly_6)**2)\n",
    "absolute_error = np.mean(np.abs(y_test - y_pred_poly_6))\n",
    "\n",
    "print(\"Absolute Error: \", absolute_error)\n",
    "print(\"Quadratic Error: \", quadratic_error)"
   ]
  },
  {
   "cell_type": "markdown",
   "metadata": {},
   "source": [
    "### Beispiel von Overfitting:"
   ]
  },
  {
   "cell_type": "code",
   "execution_count": 52,
   "metadata": {},
   "outputs": [
    {
     "name": "stdout",
     "output_type": "stream",
     "text": [
      "Polynomiale Regression mit 6 Merkmalen und degree 3:\n",
      "\n",
      "Test score:  -59.432131651062136\n",
      "Train score:  0.9512638405398064\n"
     ]
    }
   ],
   "source": [
    "\"\"\" Polynomiale Regression nur mit \"H\", \"q\", \"data_arc\", \"n_obs_used\", \"moid\" und \"n\" \n",
    "degree = 3\n",
    "\"\"\"\n",
    "X_train, X_test, y_train, y_test = train_test_split(X3, Y, test_size = 0.2)\n",
    "\n",
    "# Mit Pipeline\n",
    "pf_3 = make_pipeline(PolynomialFeatures(degree=3),lr())\n",
    "pf_3.fit(X_train,y_train)\n",
    "\n",
    "# Validierung\n",
    "print(\"Polynomiale Regression mit 6 Merkmalen und degree 3:\")\n",
    "print(\"\")\n",
    "print(\"Test score: \", pf_3.score(X_test, y_test))\n",
    "print(\"Train score: \", pf_3.score(X_train, y_train))"
   ]
  },
  {
   "cell_type": "code",
   "execution_count": 53,
   "metadata": {},
   "outputs": [
    {
     "data": {
      "text/plain": [
       "0.572263040115409"
      ]
     },
     "execution_count": 53,
     "metadata": {},
     "output_type": "execute_result"
    }
   ],
   "source": [
    "cross_val_pf6_d3 = np.mean(cross_val_score(pf_3,X2, Y,cv=5))\n",
    "cross_val_pf6_d3"
   ]
  },
  {
   "cell_type": "markdown",
   "metadata": {},
   "source": [
    "## Polynomiale Regression mit 10 Merkmalen"
   ]
  },
  {
   "cell_type": "code",
   "execution_count": 95,
   "metadata": {},
   "outputs": [],
   "source": [
    "Y = df[\"diameter_log\"]\n",
    "X4 = df[[\"H\",\"n\",\"moid\",\"n_obs_used\",\"data_arc\",\"q\",\"a\",\"e\",\"neo\",\"albedo\"]].values"
   ]
  },
  {
   "cell_type": "code",
   "execution_count": 96,
   "metadata": {},
   "outputs": [
    {
     "name": "stdout",
     "output_type": "stream",
     "text": [
      "Polynomiale Regression mit 10 Merkmalen und degree 2:\n",
      "\n",
      "Test score:  0.9563379056529084\n",
      "Train score:  0.9586863730944298\n"
     ]
    }
   ],
   "source": [
    "\"\"\" Polynomiale Regression mit \"H\",\"n\",\"moid\",\"n_obs_used\",\"data_arc\",\"q\",\"a\",\"e\",\n",
    "\"neo\" und \"albedo\" \n",
    "degree = 2\n",
    "\"\"\"\n",
    "X_train, X_test, y_train, y_test = train_test_split(X4, Y, test_size = 0.2)\n",
    "\n",
    "# Mit Pipeline\n",
    "quadratic_regression = make_pipeline(PolynomialFeatures(degree=2),lr())\n",
    "quadratic_regression.fit(X_train,y_train)\n",
    "\n",
    "# Validierung\n",
    "print(\"Polynomiale Regression mit 10 Merkmalen und degree 2:\")\n",
    "print(\"\")\n",
    "print(\"Test score: \", quadratic_regression.score(X_test, y_test))\n",
    "print(\"Train score: \", quadratic_regression.score(X_train, y_train))"
   ]
  },
  {
   "cell_type": "code",
   "execution_count": 97,
   "metadata": {},
   "outputs": [
    {
     "data": {
      "text/plain": [
       "0.9058098897488236"
      ]
     },
     "execution_count": 97,
     "metadata": {},
     "output_type": "execute_result"
    }
   ],
   "source": [
    "cross_val_pf10 = np.mean(cross_val_score(quadratic_regression, X4, Y,cv=10))\n",
    "cross_val_pf10"
   ]
  },
  {
   "cell_type": "code",
   "execution_count": 99,
   "metadata": {},
   "outputs": [
    {
     "name": "stdout",
     "output_type": "stream",
     "text": [
      "Absolute Error:  0.09209838479784031\n",
      "Quadratic Error:  0.017894367433403998\n"
     ]
    }
   ],
   "source": [
    "y_pred_poly = quadratic_regression.predict(X_test)\n",
    "\n",
    "quadratic_error = np.mean((y_test - y_pred_poly)**2)\n",
    "absolute_error = np.mean(np.abs(y_test - y_pred_poly))\n",
    "\n",
    "print(\"Absolute Error: \", absolute_error)\n",
    "print(\"Quadratic Error: \", quadratic_error)"
   ]
  },
  {
   "cell_type": "markdown",
   "metadata": {},
   "source": [
    "##  Decision Tree"
   ]
  },
  {
   "cell_type": "code",
   "execution_count": 57,
   "metadata": {},
   "outputs": [
    {
     "data": {
      "image/png": "[encoded data removed]",
      "text/plain": [
       "<Figure size 720x720 with 1 Axes>"
      ]
     },
     "metadata": {
      "needs_background": "light"
     },
     "output_type": "display_data"
    }
   ],
   "source": [
    "from sklearn.tree import plot_tree\n",
    "# initiating tree\n",
    "tree = DecisionTreeRegressor(max_depth=3)\n",
    "\n",
    "# fitting tree\n",
    "tree.fit(X_train, y_train)\n",
    "\n",
    "# Decision Tree plotten\n",
    "plt.figure(figsize=(10,10))\n",
    "plot_tree(tree);"
   ]
  },
  {
   "cell_type": "code",
   "execution_count": 58,
   "metadata": {},
   "outputs": [
    {
     "name": "stdout",
     "output_type": "stream",
     "text": [
      "Decision Tree mit 10 Merkmalen und depth = 3:\n",
      "\n",
      "Test score:  0.7440729163439126\n",
      "Train score:  0.7563357745693005\n"
     ]
    }
   ],
   "source": [
    "print(\"Decision Tree mit 10 Merkmalen und depth = 3:\")\n",
    "print(\"\")\n",
    "print(\"Test score: \", tree.score(X_test, y_test))\n",
    "print(\"Train score: \", tree.score(X_train, y_train))"
   ]
  },
  {
   "cell_type": "markdown",
   "metadata": {},
   "source": [
    "## Decision Tree mit verschiedenen Tiefen"
   ]
  },
  {
   "cell_type": "code",
   "execution_count": 59,
   "metadata": {},
   "outputs": [
    {
     "name": "stdout",
     "output_type": "stream",
     "text": [
      "Train accuracy for depth = 1:  36.71 || Test:  34.95\n",
      "Train accuracy for depth = 2:  57.24 || Test:  55.18\n",
      "Train accuracy for depth = 3:  75.63 || Test:  74.41\n",
      "Train accuracy for depth = 4:  85.04 || Test:  84.35\n",
      "Train accuracy for depth = 5:  90.3 || Test:  89.87\n",
      "Train accuracy for depth = 6:  93.25 || Test:  92.84\n",
      "Train accuracy for depth = 7:  94.87 || Test:  94.56\n",
      "Train accuracy for depth = 8:  95.9 || Test:  95.56\n",
      "Train accuracy for depth = 9:  96.6 || Test:  96.15\n",
      "Train accuracy for depth = 10:  97.04 || Test:  96.48\n",
      "Train accuracy for depth = 11:  97.39 || Test:  96.63\n",
      "Train accuracy for depth = 12:  97.68 || Test:  96.63\n",
      "Train accuracy for depth = 13:  97.97 || Test:  96.47\n"
     ]
    }
   ],
   "source": [
    "tiefe = 13\n",
    "for i in range(1, tiefe + 1):\n",
    "    # Trainingsfehler\n",
    "    tree = DecisionTreeRegressor(max_depth=i)\n",
    "    tree.fit(X_train, y_train)\n",
    "\n",
    "    # Evaluation\n",
    "    train_accuracy = tree.score(X_train, y_train)\n",
    "    test_accuracy = tree.score(X_test, y_test)\n",
    "    print(f\"Train accuracy for depth = {i}: \", round(train_accuracy * 100, 2), \n",
    "          \"|| Test: \", round(test_accuracy * 100, 2))"
   ]
  },
  {
   "cell_type": "code",
   "execution_count": 62,
   "metadata": {},
   "outputs": [
    {
     "name": "stdout",
     "output_type": "stream",
     "text": [
      "Bester Testfehler bei Max_depth = 11: Trainfehler: 0.9738740006129841, Testfehler: 0.9660648442342937\n"
     ]
    }
   ],
   "source": [
    "# zur weiteren Analyse ohne max_depth\n",
    "from sklearn.tree import DecisionTreeRegressor\n",
    "depths = np.arange(1,41)\n",
    "train_error = []\n",
    "test_error = []\n",
    "\n",
    "for depth in depths:\n",
    "    tree = DecisionTreeRegressor(max_depth = depth)\n",
    "    tree.fit(X_train,y_train)\n",
    "    train_error.append(tree.score(X_train, y_train))\n",
    "    test_error.append(tree.score(X_test, y_test))\n",
    "\n",
    "print(f\"Bester Testfehler bei Max_depth = {test_error.index(max(test_error))+1}: Trainfehler: {train_error[test_error.index(max(test_error))]}, Testfehler: {max(test_error)}\")"
   ]
  },
  {
   "cell_type": "code",
   "execution_count": 63,
   "metadata": {},
   "outputs": [
    {
     "data": {
      "image/png": "[encoded data removed]",
      "text/plain": [
       "<Figure size 432x288 with 1 Axes>"
      ]
     },
     "metadata": {
      "needs_background": "light"
     },
     "output_type": "display_data"
    }
   ],
   "source": [
    "#Visualisierung Train-/Testfehler\n",
    "plt.plot(depths,train_error, label=\"Train Error\")\n",
    "plt.plot(depths,test_error, label=\"Test Error\")\n",
    "plt.scatter(test_error.index(max(test_error)),max(test_error), c= \"r\", label=\"Bester Testfehler\")\n",
    "plt.ylabel(\"R2 Error\")\n",
    "plt.xlabel(\"max_depth\")\n",
    "plt.legend()\n",
    "\n",
    "plt.title(\"Decision Tree Error Curve\");"
   ]
  },
  {
   "cell_type": "markdown",
   "metadata": {},
   "source": [
    "Tiefe 11 ist wahrscheinlich am Besten weil der Train score am höchsten ist und der Test score auch. Danach sinkt der Test score was wahrscheinlich auf Overfitting hindeutet."
   ]
  },
  {
   "cell_type": "markdown",
   "metadata": {},
   "source": [
    "## Random Forrest"
   ]
  },
  {
   "cell_type": "code",
   "execution_count": 64,
   "metadata": {
    "scrolled": true
   },
   "outputs": [
    {
     "name": "stdout",
     "output_type": "stream",
     "text": [
      "Random Forest mit 10 Merkmalen:\n",
      "\n",
      "Test score:  0.9726200640016313\n",
      "Train score:  0.9943322810388124\n"
     ]
    }
   ],
   "source": [
    "\n",
    "forest = RandomForestRegressor(n_estimators=100, max_samples=0.8)\n",
    "forest.fit(X_train, y_train)\n",
    "\n",
    "print(\"Random Forest mit 10 Merkmalen:\")\n",
    "print(\"\")\n",
    "print(\"Test score: \", forest.score(X_test, y_test))\n",
    "print(\"Train score: \", forest.score(X_train, y_train))"
   ]
  },
  {
   "cell_type": "code",
   "execution_count": 90,
   "metadata": {},
   "outputs": [
    {
     "ename": "KeyboardInterrupt",
     "evalue": "",
     "output_type": "error",
     "traceback": [
      "\u001b[1;31m---------------------------------------------------------------------------\u001b[0m",
      "\u001b[1;31mKeyboardInterrupt\u001b[0m                         Traceback (most recent call last)",
      "\u001b[1;32m<ipython-input-90-37b463db1fc6>\u001b[0m in \u001b[0;36m<module>\u001b[1;34m\u001b[0m\n\u001b[1;32m----> 1\u001b[1;33m \u001b[0mcross_val_random\u001b[0m \u001b[1;33m=\u001b[0m \u001b[0mnp\u001b[0m\u001b[1;33m.\u001b[0m\u001b[0mmean\u001b[0m\u001b[1;33m(\u001b[0m\u001b[0mcross_val_score\u001b[0m\u001b[1;33m(\u001b[0m\u001b[0mforest\u001b[0m\u001b[1;33m,\u001b[0m \u001b[0mX2\u001b[0m\u001b[1;33m,\u001b[0m \u001b[0mY\u001b[0m\u001b[1;33m,\u001b[0m\u001b[0mcv\u001b[0m\u001b[1;33m=\u001b[0m\u001b[1;36m10\u001b[0m\u001b[1;33m)\u001b[0m\u001b[1;33m)\u001b[0m\u001b[1;33m\u001b[0m\u001b[1;33m\u001b[0m\u001b[0m\n\u001b[0m\u001b[0;32m      2\u001b[0m \u001b[0mcross_val_random\u001b[0m\u001b[1;33m\u001b[0m\u001b[1;33m\u001b[0m\u001b[0m\n",
      "\u001b[1;32m~\\Anaconda3\\lib\\site-packages\\sklearn\\utils\\validation.py\u001b[0m in \u001b[0;36minner_f\u001b[1;34m(*args, **kwargs)\u001b[0m\n\u001b[0;32m     70\u001b[0m                           FutureWarning)\n\u001b[0;32m     71\u001b[0m         \u001b[0mkwargs\u001b[0m\u001b[1;33m.\u001b[0m\u001b[0mupdate\u001b[0m\u001b[1;33m(\u001b[0m\u001b[1;33m{\u001b[0m\u001b[0mk\u001b[0m\u001b[1;33m:\u001b[0m \u001b[0marg\u001b[0m \u001b[1;32mfor\u001b[0m \u001b[0mk\u001b[0m\u001b[1;33m,\u001b[0m \u001b[0marg\u001b[0m \u001b[1;32min\u001b[0m \u001b[0mzip\u001b[0m\u001b[1;33m(\u001b[0m\u001b[0msig\u001b[0m\u001b[1;33m.\u001b[0m\u001b[0mparameters\u001b[0m\u001b[1;33m,\u001b[0m \u001b[0margs\u001b[0m\u001b[1;33m)\u001b[0m\u001b[1;33m}\u001b[0m\u001b[1;33m)\u001b[0m\u001b[1;33m\u001b[0m\u001b[1;33m\u001b[0m\u001b[0m\n\u001b[1;32m---> 72\u001b[1;33m         \u001b[1;32mreturn\u001b[0m \u001b[0mf\u001b[0m\u001b[1;33m(\u001b[0m\u001b[1;33m**\u001b[0m\u001b[0mkwargs\u001b[0m\u001b[1;33m)\u001b[0m\u001b[1;33m\u001b[0m\u001b[1;33m\u001b[0m\u001b[0m\n\u001b[0m\u001b[0;32m     73\u001b[0m     \u001b[1;32mreturn\u001b[0m \u001b[0minner_f\u001b[0m\u001b[1;33m\u001b[0m\u001b[1;33m\u001b[0m\u001b[0m\n\u001b[0;32m     74\u001b[0m \u001b[1;33m\u001b[0m\u001b[0m\n",
      "\u001b[1;32m~\\Anaconda3\\lib\\site-packages\\sklearn\\model_selection\\_validation.py\u001b[0m in \u001b[0;36mcross_val_score\u001b[1;34m(estimator, X, y, groups, scoring, cv, n_jobs, verbose, fit_params, pre_dispatch, error_score)\u001b[0m\n\u001b[0;32m    404\u001b[0m                                 \u001b[0mfit_params\u001b[0m\u001b[1;33m=\u001b[0m\u001b[0mfit_params\u001b[0m\u001b[1;33m,\u001b[0m\u001b[1;33m\u001b[0m\u001b[1;33m\u001b[0m\u001b[0m\n\u001b[0;32m    405\u001b[0m                                 \u001b[0mpre_dispatch\u001b[0m\u001b[1;33m=\u001b[0m\u001b[0mpre_dispatch\u001b[0m\u001b[1;33m,\u001b[0m\u001b[1;33m\u001b[0m\u001b[1;33m\u001b[0m\u001b[0m\n\u001b[1;32m--> 406\u001b[1;33m                                 error_score=error_score)\n\u001b[0m\u001b[0;32m    407\u001b[0m     \u001b[1;32mreturn\u001b[0m \u001b[0mcv_results\u001b[0m\u001b[1;33m[\u001b[0m\u001b[1;34m'test_score'\u001b[0m\u001b[1;33m]\u001b[0m\u001b[1;33m\u001b[0m\u001b[1;33m\u001b[0m\u001b[0m\n\u001b[0;32m    408\u001b[0m \u001b[1;33m\u001b[0m\u001b[0m\n",
      "\u001b[1;32m~\\Anaconda3\\lib\\site-packages\\sklearn\\utils\\validation.py\u001b[0m in \u001b[0;36minner_f\u001b[1;34m(*args, **kwargs)\u001b[0m\n\u001b[0;32m     70\u001b[0m                           FutureWarning)\n\u001b[0;32m     71\u001b[0m         \u001b[0mkwargs\u001b[0m\u001b[1;33m.\u001b[0m\u001b[0mupdate\u001b[0m\u001b[1;33m(\u001b[0m\u001b[1;33m{\u001b[0m\u001b[0mk\u001b[0m\u001b[1;33m:\u001b[0m \u001b[0marg\u001b[0m \u001b[1;32mfor\u001b[0m \u001b[0mk\u001b[0m\u001b[1;33m,\u001b[0m \u001b[0marg\u001b[0m \u001b[1;32min\u001b[0m \u001b[0mzip\u001b[0m\u001b[1;33m(\u001b[0m\u001b[0msig\u001b[0m\u001b[1;33m.\u001b[0m\u001b[0mparameters\u001b[0m\u001b[1;33m,\u001b[0m \u001b[0margs\u001b[0m\u001b[1;33m)\u001b[0m\u001b[1;33m}\u001b[0m\u001b[1;33m)\u001b[0m\u001b[1;33m\u001b[0m\u001b[1;33m\u001b[0m\u001b[0m\n\u001b[1;32m---> 72\u001b[1;33m         \u001b[1;32mreturn\u001b[0m \u001b[0mf\u001b[0m\u001b[1;33m(\u001b[0m\u001b[1;33m**\u001b[0m\u001b[0mkwargs\u001b[0m\u001b[1;33m)\u001b[0m\u001b[1;33m\u001b[0m\u001b[1;33m\u001b[0m\u001b[0m\n\u001b[0m\u001b[0;32m     73\u001b[0m     \u001b[1;32mreturn\u001b[0m \u001b[0minner_f\u001b[0m\u001b[1;33m\u001b[0m\u001b[1;33m\u001b[0m\u001b[0m\n\u001b[0;32m     74\u001b[0m \u001b[1;33m\u001b[0m\u001b[0m\n",
      "\u001b[1;32m~\\Anaconda3\\lib\\site-packages\\sklearn\\model_selection\\_validation.py\u001b[0m in \u001b[0;36mcross_validate\u001b[1;34m(estimator, X, y, groups, scoring, cv, n_jobs, verbose, fit_params, pre_dispatch, return_train_score, return_estimator, error_score)\u001b[0m\n\u001b[0;32m    246\u001b[0m             \u001b[0mreturn_times\u001b[0m\u001b[1;33m=\u001b[0m\u001b[1;32mTrue\u001b[0m\u001b[1;33m,\u001b[0m \u001b[0mreturn_estimator\u001b[0m\u001b[1;33m=\u001b[0m\u001b[0mreturn_estimator\u001b[0m\u001b[1;33m,\u001b[0m\u001b[1;33m\u001b[0m\u001b[1;33m\u001b[0m\u001b[0m\n\u001b[0;32m    247\u001b[0m             error_score=error_score)\n\u001b[1;32m--> 248\u001b[1;33m         for train, test in cv.split(X, y, groups))\n\u001b[0m\u001b[0;32m    249\u001b[0m \u001b[1;33m\u001b[0m\u001b[0m\n\u001b[0;32m    250\u001b[0m     \u001b[0mzipped_scores\u001b[0m \u001b[1;33m=\u001b[0m \u001b[0mlist\u001b[0m\u001b[1;33m(\u001b[0m\u001b[0mzip\u001b[0m\u001b[1;33m(\u001b[0m\u001b[1;33m*\u001b[0m\u001b[0mscores\u001b[0m\u001b[1;33m)\u001b[0m\u001b[1;33m)\u001b[0m\u001b[1;33m\u001b[0m\u001b[1;33m\u001b[0m\u001b[0m\n",
      "\u001b[1;32m~\\Anaconda3\\lib\\site-packages\\joblib\\parallel.py\u001b[0m in \u001b[0;36m__call__\u001b[1;34m(self, iterable)\u001b[0m\n\u001b[0;32m   1046\u001b[0m             \u001b[1;31m# remaining jobs.\u001b[0m\u001b[1;33m\u001b[0m\u001b[1;33m\u001b[0m\u001b[1;33m\u001b[0m\u001b[0m\n\u001b[0;32m   1047\u001b[0m             \u001b[0mself\u001b[0m\u001b[1;33m.\u001b[0m\u001b[0m_iterating\u001b[0m \u001b[1;33m=\u001b[0m \u001b[1;32mFalse\u001b[0m\u001b[1;33m\u001b[0m\u001b[1;33m\u001b[0m\u001b[0m\n\u001b[1;32m-> 1048\u001b[1;33m             \u001b[1;32mif\u001b[0m \u001b[0mself\u001b[0m\u001b[1;33m.\u001b[0m\u001b[0mdispatch_one_batch\u001b[0m\u001b[1;33m(\u001b[0m\u001b[0miterator\u001b[0m\u001b[1;33m)\u001b[0m\u001b[1;33m:\u001b[0m\u001b[1;33m\u001b[0m\u001b[1;33m\u001b[0m\u001b[0m\n\u001b[0m\u001b[0;32m   1049\u001b[0m                 \u001b[0mself\u001b[0m\u001b[1;33m.\u001b[0m\u001b[0m_iterating\u001b[0m \u001b[1;33m=\u001b[0m \u001b[0mself\u001b[0m\u001b[1;33m.\u001b[0m\u001b[0m_original_iterator\u001b[0m \u001b[1;32mis\u001b[0m \u001b[1;32mnot\u001b[0m \u001b[1;32mNone\u001b[0m\u001b[1;33m\u001b[0m\u001b[1;33m\u001b[0m\u001b[0m\n\u001b[0;32m   1050\u001b[0m \u001b[1;33m\u001b[0m\u001b[0m\n",
      "\u001b[1;32m~\\Anaconda3\\lib\\site-packages\\joblib\\parallel.py\u001b[0m in \u001b[0;36mdispatch_one_batch\u001b[1;34m(self, iterator)\u001b[0m\n\u001b[0;32m    864\u001b[0m                 \u001b[1;32mreturn\u001b[0m \u001b[1;32mFalse\u001b[0m\u001b[1;33m\u001b[0m\u001b[1;33m\u001b[0m\u001b[0m\n\u001b[0;32m    865\u001b[0m             \u001b[1;32melse\u001b[0m\u001b[1;33m:\u001b[0m\u001b[1;33m\u001b[0m\u001b[1;33m\u001b[0m\u001b[0m\n\u001b[1;32m--> 866\u001b[1;33m                 \u001b[0mself\u001b[0m\u001b[1;33m.\u001b[0m\u001b[0m_dispatch\u001b[0m\u001b[1;33m(\u001b[0m\u001b[0mtasks\u001b[0m\u001b[1;33m)\u001b[0m\u001b[1;33m\u001b[0m\u001b[1;33m\u001b[0m\u001b[0m\n\u001b[0m\u001b[0;32m    867\u001b[0m                 \u001b[1;32mreturn\u001b[0m \u001b[1;32mTrue\u001b[0m\u001b[1;33m\u001b[0m\u001b[1;33m\u001b[0m\u001b[0m\n\u001b[0;32m    868\u001b[0m \u001b[1;33m\u001b[0m\u001b[0m\n",
      "\u001b[1;32m~\\Anaconda3\\lib\\site-packages\\joblib\\parallel.py\u001b[0m in \u001b[0;36m_dispatch\u001b[1;34m(self, batch)\u001b[0m\n\u001b[0;32m    782\u001b[0m         \u001b[1;32mwith\u001b[0m \u001b[0mself\u001b[0m\u001b[1;33m.\u001b[0m\u001b[0m_lock\u001b[0m\u001b[1;33m:\u001b[0m\u001b[1;33m\u001b[0m\u001b[1;33m\u001b[0m\u001b[0m\n\u001b[0;32m    783\u001b[0m             \u001b[0mjob_idx\u001b[0m \u001b[1;33m=\u001b[0m \u001b[0mlen\u001b[0m\u001b[1;33m(\u001b[0m\u001b[0mself\u001b[0m\u001b[1;33m.\u001b[0m\u001b[0m_jobs\u001b[0m\u001b[1;33m)\u001b[0m\u001b[1;33m\u001b[0m\u001b[1;33m\u001b[0m\u001b[0m\n\u001b[1;32m--> 784\u001b[1;33m             \u001b[0mjob\u001b[0m \u001b[1;33m=\u001b[0m \u001b[0mself\u001b[0m\u001b[1;33m.\u001b[0m\u001b[0m_backend\u001b[0m\u001b[1;33m.\u001b[0m\u001b[0mapply_async\u001b[0m\u001b[1;33m(\u001b[0m\u001b[0mbatch\u001b[0m\u001b[1;33m,\u001b[0m \u001b[0mcallback\u001b[0m\u001b[1;33m=\u001b[0m\u001b[0mcb\u001b[0m\u001b[1;33m)\u001b[0m\u001b[1;33m\u001b[0m\u001b[1;33m\u001b[0m\u001b[0m\n\u001b[0m\u001b[0;32m    785\u001b[0m             \u001b[1;31m# A job can complete so quickly than its callback is\u001b[0m\u001b[1;33m\u001b[0m\u001b[1;33m\u001b[0m\u001b[1;33m\u001b[0m\u001b[0m\n\u001b[0;32m    786\u001b[0m             \u001b[1;31m# called before we get here, causing self._jobs to\u001b[0m\u001b[1;33m\u001b[0m\u001b[1;33m\u001b[0m\u001b[1;33m\u001b[0m\u001b[0m\n",
      "\u001b[1;32m~\\Anaconda3\\lib\\site-packages\\joblib\\_parallel_backends.py\u001b[0m in \u001b[0;36mapply_async\u001b[1;34m(self, func, callback)\u001b[0m\n\u001b[0;32m    206\u001b[0m     \u001b[1;32mdef\u001b[0m \u001b[0mapply_async\u001b[0m\u001b[1;33m(\u001b[0m\u001b[0mself\u001b[0m\u001b[1;33m,\u001b[0m \u001b[0mfunc\u001b[0m\u001b[1;33m,\u001b[0m \u001b[0mcallback\u001b[0m\u001b[1;33m=\u001b[0m\u001b[1;32mNone\u001b[0m\u001b[1;33m)\u001b[0m\u001b[1;33m:\u001b[0m\u001b[1;33m\u001b[0m\u001b[1;33m\u001b[0m\u001b[0m\n\u001b[0;32m    207\u001b[0m         \u001b[1;34m\"\"\"Schedule a func to be run\"\"\"\u001b[0m\u001b[1;33m\u001b[0m\u001b[1;33m\u001b[0m\u001b[0m\n\u001b[1;32m--> 208\u001b[1;33m         \u001b[0mresult\u001b[0m \u001b[1;33m=\u001b[0m \u001b[0mImmediateResult\u001b[0m\u001b[1;33m(\u001b[0m\u001b[0mfunc\u001b[0m\u001b[1;33m)\u001b[0m\u001b[1;33m\u001b[0m\u001b[1;33m\u001b[0m\u001b[0m\n\u001b[0m\u001b[0;32m    209\u001b[0m         \u001b[1;32mif\u001b[0m \u001b[0mcallback\u001b[0m\u001b[1;33m:\u001b[0m\u001b[1;33m\u001b[0m\u001b[1;33m\u001b[0m\u001b[0m\n\u001b[0;32m    210\u001b[0m             \u001b[0mcallback\u001b[0m\u001b[1;33m(\u001b[0m\u001b[0mresult\u001b[0m\u001b[1;33m)\u001b[0m\u001b[1;33m\u001b[0m\u001b[1;33m\u001b[0m\u001b[0m\n",
      "\u001b[1;32m~\\Anaconda3\\lib\\site-packages\\joblib\\_parallel_backends.py\u001b[0m in \u001b[0;36m__init__\u001b[1;34m(self, batch)\u001b[0m\n\u001b[0;32m    570\u001b[0m         \u001b[1;31m# Don't delay the application, to avoid keeping the input\u001b[0m\u001b[1;33m\u001b[0m\u001b[1;33m\u001b[0m\u001b[1;33m\u001b[0m\u001b[0m\n\u001b[0;32m    571\u001b[0m         \u001b[1;31m# arguments in memory\u001b[0m\u001b[1;33m\u001b[0m\u001b[1;33m\u001b[0m\u001b[1;33m\u001b[0m\u001b[0m\n\u001b[1;32m--> 572\u001b[1;33m         \u001b[0mself\u001b[0m\u001b[1;33m.\u001b[0m\u001b[0mresults\u001b[0m \u001b[1;33m=\u001b[0m \u001b[0mbatch\u001b[0m\u001b[1;33m(\u001b[0m\u001b[1;33m)\u001b[0m\u001b[1;33m\u001b[0m\u001b[1;33m\u001b[0m\u001b[0m\n\u001b[0m\u001b[0;32m    573\u001b[0m \u001b[1;33m\u001b[0m\u001b[0m\n\u001b[0;32m    574\u001b[0m     \u001b[1;32mdef\u001b[0m \u001b[0mget\u001b[0m\u001b[1;33m(\u001b[0m\u001b[0mself\u001b[0m\u001b[1;33m)\u001b[0m\u001b[1;33m:\u001b[0m\u001b[1;33m\u001b[0m\u001b[1;33m\u001b[0m\u001b[0m\n",
      "\u001b[1;32m~\\Anaconda3\\lib\\site-packages\\joblib\\parallel.py\u001b[0m in \u001b[0;36m__call__\u001b[1;34m(self)\u001b[0m\n\u001b[0;32m    261\u001b[0m         \u001b[1;32mwith\u001b[0m \u001b[0mparallel_backend\u001b[0m\u001b[1;33m(\u001b[0m\u001b[0mself\u001b[0m\u001b[1;33m.\u001b[0m\u001b[0m_backend\u001b[0m\u001b[1;33m,\u001b[0m \u001b[0mn_jobs\u001b[0m\u001b[1;33m=\u001b[0m\u001b[0mself\u001b[0m\u001b[1;33m.\u001b[0m\u001b[0m_n_jobs\u001b[0m\u001b[1;33m)\u001b[0m\u001b[1;33m:\u001b[0m\u001b[1;33m\u001b[0m\u001b[1;33m\u001b[0m\u001b[0m\n\u001b[0;32m    262\u001b[0m             return [func(*args, **kwargs)\n\u001b[1;32m--> 263\u001b[1;33m                     for func, args, kwargs in self.items]\n\u001b[0m\u001b[0;32m    264\u001b[0m \u001b[1;33m\u001b[0m\u001b[0m\n\u001b[0;32m    265\u001b[0m     \u001b[1;32mdef\u001b[0m \u001b[0m__reduce__\u001b[0m\u001b[1;33m(\u001b[0m\u001b[0mself\u001b[0m\u001b[1;33m)\u001b[0m\u001b[1;33m:\u001b[0m\u001b[1;33m\u001b[0m\u001b[1;33m\u001b[0m\u001b[0m\n",
      "\u001b[1;32m~\\Anaconda3\\lib\\site-packages\\joblib\\parallel.py\u001b[0m in \u001b[0;36m<listcomp>\u001b[1;34m(.0)\u001b[0m\n\u001b[0;32m    261\u001b[0m         \u001b[1;32mwith\u001b[0m \u001b[0mparallel_backend\u001b[0m\u001b[1;33m(\u001b[0m\u001b[0mself\u001b[0m\u001b[1;33m.\u001b[0m\u001b[0m_backend\u001b[0m\u001b[1;33m,\u001b[0m \u001b[0mn_jobs\u001b[0m\u001b[1;33m=\u001b[0m\u001b[0mself\u001b[0m\u001b[1;33m.\u001b[0m\u001b[0m_n_jobs\u001b[0m\u001b[1;33m)\u001b[0m\u001b[1;33m:\u001b[0m\u001b[1;33m\u001b[0m\u001b[1;33m\u001b[0m\u001b[0m\n\u001b[0;32m    262\u001b[0m             return [func(*args, **kwargs)\n\u001b[1;32m--> 263\u001b[1;33m                     for func, args, kwargs in self.items]\n\u001b[0m\u001b[0;32m    264\u001b[0m \u001b[1;33m\u001b[0m\u001b[0m\n\u001b[0;32m    265\u001b[0m     \u001b[1;32mdef\u001b[0m \u001b[0m__reduce__\u001b[0m\u001b[1;33m(\u001b[0m\u001b[0mself\u001b[0m\u001b[1;33m)\u001b[0m\u001b[1;33m:\u001b[0m\u001b[1;33m\u001b[0m\u001b[1;33m\u001b[0m\u001b[0m\n",
      "\u001b[1;32m~\\Anaconda3\\lib\\site-packages\\sklearn\\model_selection\\_validation.py\u001b[0m in \u001b[0;36m_fit_and_score\u001b[1;34m(estimator, X, y, scorer, train, test, verbose, parameters, fit_params, return_train_score, return_parameters, return_n_test_samples, return_times, return_estimator, error_score)\u001b[0m\n\u001b[0;32m    529\u001b[0m             \u001b[0mestimator\u001b[0m\u001b[1;33m.\u001b[0m\u001b[0mfit\u001b[0m\u001b[1;33m(\u001b[0m\u001b[0mX_train\u001b[0m\u001b[1;33m,\u001b[0m \u001b[1;33m**\u001b[0m\u001b[0mfit_params\u001b[0m\u001b[1;33m)\u001b[0m\u001b[1;33m\u001b[0m\u001b[1;33m\u001b[0m\u001b[0m\n\u001b[0;32m    530\u001b[0m         \u001b[1;32melse\u001b[0m\u001b[1;33m:\u001b[0m\u001b[1;33m\u001b[0m\u001b[1;33m\u001b[0m\u001b[0m\n\u001b[1;32m--> 531\u001b[1;33m             \u001b[0mestimator\u001b[0m\u001b[1;33m.\u001b[0m\u001b[0mfit\u001b[0m\u001b[1;33m(\u001b[0m\u001b[0mX_train\u001b[0m\u001b[1;33m,\u001b[0m \u001b[0my_train\u001b[0m\u001b[1;33m,\u001b[0m \u001b[1;33m**\u001b[0m\u001b[0mfit_params\u001b[0m\u001b[1;33m)\u001b[0m\u001b[1;33m\u001b[0m\u001b[1;33m\u001b[0m\u001b[0m\n\u001b[0m\u001b[0;32m    532\u001b[0m \u001b[1;33m\u001b[0m\u001b[0m\n\u001b[0;32m    533\u001b[0m     \u001b[1;32mexcept\u001b[0m \u001b[0mException\u001b[0m \u001b[1;32mas\u001b[0m \u001b[0me\u001b[0m\u001b[1;33m:\u001b[0m\u001b[1;33m\u001b[0m\u001b[1;33m\u001b[0m\u001b[0m\n",
      "\u001b[1;32m~\\Anaconda3\\lib\\site-packages\\sklearn\\ensemble\\_forest.py\u001b[0m in \u001b[0;36mfit\u001b[1;34m(self, X, y, sample_weight)\u001b[0m\n\u001b[0;32m    390\u001b[0m                     \u001b[0mverbose\u001b[0m\u001b[1;33m=\u001b[0m\u001b[0mself\u001b[0m\u001b[1;33m.\u001b[0m\u001b[0mverbose\u001b[0m\u001b[1;33m,\u001b[0m \u001b[0mclass_weight\u001b[0m\u001b[1;33m=\u001b[0m\u001b[0mself\u001b[0m\u001b[1;33m.\u001b[0m\u001b[0mclass_weight\u001b[0m\u001b[1;33m,\u001b[0m\u001b[1;33m\u001b[0m\u001b[1;33m\u001b[0m\u001b[0m\n\u001b[0;32m    391\u001b[0m                     n_samples_bootstrap=n_samples_bootstrap)\n\u001b[1;32m--> 392\u001b[1;33m                 for i, t in enumerate(trees))\n\u001b[0m\u001b[0;32m    393\u001b[0m \u001b[1;33m\u001b[0m\u001b[0m\n\u001b[0;32m    394\u001b[0m             \u001b[1;31m# Collect newly grown trees\u001b[0m\u001b[1;33m\u001b[0m\u001b[1;33m\u001b[0m\u001b[1;33m\u001b[0m\u001b[0m\n",
      "\u001b[1;32m~\\Anaconda3\\lib\\site-packages\\joblib\\parallel.py\u001b[0m in \u001b[0;36m__call__\u001b[1;34m(self, iterable)\u001b[0m\n\u001b[0;32m   1049\u001b[0m                 \u001b[0mself\u001b[0m\u001b[1;33m.\u001b[0m\u001b[0m_iterating\u001b[0m \u001b[1;33m=\u001b[0m \u001b[0mself\u001b[0m\u001b[1;33m.\u001b[0m\u001b[0m_original_iterator\u001b[0m \u001b[1;32mis\u001b[0m \u001b[1;32mnot\u001b[0m \u001b[1;32mNone\u001b[0m\u001b[1;33m\u001b[0m\u001b[1;33m\u001b[0m\u001b[0m\n\u001b[0;32m   1050\u001b[0m \u001b[1;33m\u001b[0m\u001b[0m\n\u001b[1;32m-> 1051\u001b[1;33m             \u001b[1;32mwhile\u001b[0m \u001b[0mself\u001b[0m\u001b[1;33m.\u001b[0m\u001b[0mdispatch_one_batch\u001b[0m\u001b[1;33m(\u001b[0m\u001b[0miterator\u001b[0m\u001b[1;33m)\u001b[0m\u001b[1;33m:\u001b[0m\u001b[1;33m\u001b[0m\u001b[1;33m\u001b[0m\u001b[0m\n\u001b[0m\u001b[0;32m   1052\u001b[0m                 \u001b[1;32mpass\u001b[0m\u001b[1;33m\u001b[0m\u001b[1;33m\u001b[0m\u001b[0m\n\u001b[0;32m   1053\u001b[0m \u001b[1;33m\u001b[0m\u001b[0m\n",
      "\u001b[1;32m~\\Anaconda3\\lib\\site-packages\\joblib\\parallel.py\u001b[0m in \u001b[0;36mdispatch_one_batch\u001b[1;34m(self, iterator)\u001b[0m\n\u001b[0;32m    864\u001b[0m                 \u001b[1;32mreturn\u001b[0m \u001b[1;32mFalse\u001b[0m\u001b[1;33m\u001b[0m\u001b[1;33m\u001b[0m\u001b[0m\n\u001b[0;32m    865\u001b[0m             \u001b[1;32melse\u001b[0m\u001b[1;33m:\u001b[0m\u001b[1;33m\u001b[0m\u001b[1;33m\u001b[0m\u001b[0m\n\u001b[1;32m--> 866\u001b[1;33m                 \u001b[0mself\u001b[0m\u001b[1;33m.\u001b[0m\u001b[0m_dispatch\u001b[0m\u001b[1;33m(\u001b[0m\u001b[0mtasks\u001b[0m\u001b[1;33m)\u001b[0m\u001b[1;33m\u001b[0m\u001b[1;33m\u001b[0m\u001b[0m\n\u001b[0m\u001b[0;32m    867\u001b[0m                 \u001b[1;32mreturn\u001b[0m \u001b[1;32mTrue\u001b[0m\u001b[1;33m\u001b[0m\u001b[1;33m\u001b[0m\u001b[0m\n\u001b[0;32m    868\u001b[0m \u001b[1;33m\u001b[0m\u001b[0m\n",
      "\u001b[1;32m~\\Anaconda3\\lib\\site-packages\\joblib\\parallel.py\u001b[0m in \u001b[0;36m_dispatch\u001b[1;34m(self, batch)\u001b[0m\n\u001b[0;32m    782\u001b[0m         \u001b[1;32mwith\u001b[0m \u001b[0mself\u001b[0m\u001b[1;33m.\u001b[0m\u001b[0m_lock\u001b[0m\u001b[1;33m:\u001b[0m\u001b[1;33m\u001b[0m\u001b[1;33m\u001b[0m\u001b[0m\n\u001b[0;32m    783\u001b[0m             \u001b[0mjob_idx\u001b[0m \u001b[1;33m=\u001b[0m \u001b[0mlen\u001b[0m\u001b[1;33m(\u001b[0m\u001b[0mself\u001b[0m\u001b[1;33m.\u001b[0m\u001b[0m_jobs\u001b[0m\u001b[1;33m)\u001b[0m\u001b[1;33m\u001b[0m\u001b[1;33m\u001b[0m\u001b[0m\n\u001b[1;32m--> 784\u001b[1;33m             \u001b[0mjob\u001b[0m \u001b[1;33m=\u001b[0m \u001b[0mself\u001b[0m\u001b[1;33m.\u001b[0m\u001b[0m_backend\u001b[0m\u001b[1;33m.\u001b[0m\u001b[0mapply_async\u001b[0m\u001b[1;33m(\u001b[0m\u001b[0mbatch\u001b[0m\u001b[1;33m,\u001b[0m \u001b[0mcallback\u001b[0m\u001b[1;33m=\u001b[0m\u001b[0mcb\u001b[0m\u001b[1;33m)\u001b[0m\u001b[1;33m\u001b[0m\u001b[1;33m\u001b[0m\u001b[0m\n\u001b[0m\u001b[0;32m    785\u001b[0m             \u001b[1;31m# A job can complete so quickly than its callback is\u001b[0m\u001b[1;33m\u001b[0m\u001b[1;33m\u001b[0m\u001b[1;33m\u001b[0m\u001b[0m\n\u001b[0;32m    786\u001b[0m             \u001b[1;31m# called before we get here, causing self._jobs to\u001b[0m\u001b[1;33m\u001b[0m\u001b[1;33m\u001b[0m\u001b[1;33m\u001b[0m\u001b[0m\n",
      "\u001b[1;32m~\\Anaconda3\\lib\\site-packages\\joblib\\_parallel_backends.py\u001b[0m in \u001b[0;36mapply_async\u001b[1;34m(self, func, callback)\u001b[0m\n\u001b[0;32m    206\u001b[0m     \u001b[1;32mdef\u001b[0m \u001b[0mapply_async\u001b[0m\u001b[1;33m(\u001b[0m\u001b[0mself\u001b[0m\u001b[1;33m,\u001b[0m \u001b[0mfunc\u001b[0m\u001b[1;33m,\u001b[0m \u001b[0mcallback\u001b[0m\u001b[1;33m=\u001b[0m\u001b[1;32mNone\u001b[0m\u001b[1;33m)\u001b[0m\u001b[1;33m:\u001b[0m\u001b[1;33m\u001b[0m\u001b[1;33m\u001b[0m\u001b[0m\n\u001b[0;32m    207\u001b[0m         \u001b[1;34m\"\"\"Schedule a func to be run\"\"\"\u001b[0m\u001b[1;33m\u001b[0m\u001b[1;33m\u001b[0m\u001b[0m\n\u001b[1;32m--> 208\u001b[1;33m         \u001b[0mresult\u001b[0m \u001b[1;33m=\u001b[0m \u001b[0mImmediateResult\u001b[0m\u001b[1;33m(\u001b[0m\u001b[0mfunc\u001b[0m\u001b[1;33m)\u001b[0m\u001b[1;33m\u001b[0m\u001b[1;33m\u001b[0m\u001b[0m\n\u001b[0m\u001b[0;32m    209\u001b[0m         \u001b[1;32mif\u001b[0m \u001b[0mcallback\u001b[0m\u001b[1;33m:\u001b[0m\u001b[1;33m\u001b[0m\u001b[1;33m\u001b[0m\u001b[0m\n\u001b[0;32m    210\u001b[0m             \u001b[0mcallback\u001b[0m\u001b[1;33m(\u001b[0m\u001b[0mresult\u001b[0m\u001b[1;33m)\u001b[0m\u001b[1;33m\u001b[0m\u001b[1;33m\u001b[0m\u001b[0m\n",
      "\u001b[1;32m~\\Anaconda3\\lib\\site-packages\\joblib\\_parallel_backends.py\u001b[0m in \u001b[0;36m__init__\u001b[1;34m(self, batch)\u001b[0m\n\u001b[0;32m    570\u001b[0m         \u001b[1;31m# Don't delay the application, to avoid keeping the input\u001b[0m\u001b[1;33m\u001b[0m\u001b[1;33m\u001b[0m\u001b[1;33m\u001b[0m\u001b[0m\n\u001b[0;32m    571\u001b[0m         \u001b[1;31m# arguments in memory\u001b[0m\u001b[1;33m\u001b[0m\u001b[1;33m\u001b[0m\u001b[1;33m\u001b[0m\u001b[0m\n\u001b[1;32m--> 572\u001b[1;33m         \u001b[0mself\u001b[0m\u001b[1;33m.\u001b[0m\u001b[0mresults\u001b[0m \u001b[1;33m=\u001b[0m \u001b[0mbatch\u001b[0m\u001b[1;33m(\u001b[0m\u001b[1;33m)\u001b[0m\u001b[1;33m\u001b[0m\u001b[1;33m\u001b[0m\u001b[0m\n\u001b[0m\u001b[0;32m    573\u001b[0m \u001b[1;33m\u001b[0m\u001b[0m\n\u001b[0;32m    574\u001b[0m     \u001b[1;32mdef\u001b[0m \u001b[0mget\u001b[0m\u001b[1;33m(\u001b[0m\u001b[0mself\u001b[0m\u001b[1;33m)\u001b[0m\u001b[1;33m:\u001b[0m\u001b[1;33m\u001b[0m\u001b[1;33m\u001b[0m\u001b[0m\n",
      "\u001b[1;32m~\\Anaconda3\\lib\\site-packages\\joblib\\parallel.py\u001b[0m in \u001b[0;36m__call__\u001b[1;34m(self)\u001b[0m\n\u001b[0;32m    261\u001b[0m         \u001b[1;32mwith\u001b[0m \u001b[0mparallel_backend\u001b[0m\u001b[1;33m(\u001b[0m\u001b[0mself\u001b[0m\u001b[1;33m.\u001b[0m\u001b[0m_backend\u001b[0m\u001b[1;33m,\u001b[0m \u001b[0mn_jobs\u001b[0m\u001b[1;33m=\u001b[0m\u001b[0mself\u001b[0m\u001b[1;33m.\u001b[0m\u001b[0m_n_jobs\u001b[0m\u001b[1;33m)\u001b[0m\u001b[1;33m:\u001b[0m\u001b[1;33m\u001b[0m\u001b[1;33m\u001b[0m\u001b[0m\n\u001b[0;32m    262\u001b[0m             return [func(*args, **kwargs)\n\u001b[1;32m--> 263\u001b[1;33m                     for func, args, kwargs in self.items]\n\u001b[0m\u001b[0;32m    264\u001b[0m \u001b[1;33m\u001b[0m\u001b[0m\n\u001b[0;32m    265\u001b[0m     \u001b[1;32mdef\u001b[0m \u001b[0m__reduce__\u001b[0m\u001b[1;33m(\u001b[0m\u001b[0mself\u001b[0m\u001b[1;33m)\u001b[0m\u001b[1;33m:\u001b[0m\u001b[1;33m\u001b[0m\u001b[1;33m\u001b[0m\u001b[0m\n",
      "\u001b[1;32m~\\Anaconda3\\lib\\site-packages\\joblib\\parallel.py\u001b[0m in \u001b[0;36m<listcomp>\u001b[1;34m(.0)\u001b[0m\n\u001b[0;32m    261\u001b[0m         \u001b[1;32mwith\u001b[0m \u001b[0mparallel_backend\u001b[0m\u001b[1;33m(\u001b[0m\u001b[0mself\u001b[0m\u001b[1;33m.\u001b[0m\u001b[0m_backend\u001b[0m\u001b[1;33m,\u001b[0m \u001b[0mn_jobs\u001b[0m\u001b[1;33m=\u001b[0m\u001b[0mself\u001b[0m\u001b[1;33m.\u001b[0m\u001b[0m_n_jobs\u001b[0m\u001b[1;33m)\u001b[0m\u001b[1;33m:\u001b[0m\u001b[1;33m\u001b[0m\u001b[1;33m\u001b[0m\u001b[0m\n\u001b[0;32m    262\u001b[0m             return [func(*args, **kwargs)\n\u001b[1;32m--> 263\u001b[1;33m                     for func, args, kwargs in self.items]\n\u001b[0m\u001b[0;32m    264\u001b[0m \u001b[1;33m\u001b[0m\u001b[0m\n\u001b[0;32m    265\u001b[0m     \u001b[1;32mdef\u001b[0m \u001b[0m__reduce__\u001b[0m\u001b[1;33m(\u001b[0m\u001b[0mself\u001b[0m\u001b[1;33m)\u001b[0m\u001b[1;33m:\u001b[0m\u001b[1;33m\u001b[0m\u001b[1;33m\u001b[0m\u001b[0m\n",
      "\u001b[1;32m~\\Anaconda3\\lib\\site-packages\\sklearn\\ensemble\\_forest.py\u001b[0m in \u001b[0;36m_parallel_build_trees\u001b[1;34m(tree, forest, X, y, sample_weight, tree_idx, n_trees, verbose, class_weight, n_samples_bootstrap)\u001b[0m\n\u001b[0;32m    166\u001b[0m                                                         indices=indices)\n\u001b[0;32m    167\u001b[0m \u001b[1;33m\u001b[0m\u001b[0m\n\u001b[1;32m--> 168\u001b[1;33m         \u001b[0mtree\u001b[0m\u001b[1;33m.\u001b[0m\u001b[0mfit\u001b[0m\u001b[1;33m(\u001b[0m\u001b[0mX\u001b[0m\u001b[1;33m,\u001b[0m \u001b[0my\u001b[0m\u001b[1;33m,\u001b[0m \u001b[0msample_weight\u001b[0m\u001b[1;33m=\u001b[0m\u001b[0mcurr_sample_weight\u001b[0m\u001b[1;33m,\u001b[0m \u001b[0mcheck_input\u001b[0m\u001b[1;33m=\u001b[0m\u001b[1;32mFalse\u001b[0m\u001b[1;33m)\u001b[0m\u001b[1;33m\u001b[0m\u001b[1;33m\u001b[0m\u001b[0m\n\u001b[0m\u001b[0;32m    169\u001b[0m     \u001b[1;32melse\u001b[0m\u001b[1;33m:\u001b[0m\u001b[1;33m\u001b[0m\u001b[1;33m\u001b[0m\u001b[0m\n\u001b[0;32m    170\u001b[0m         \u001b[0mtree\u001b[0m\u001b[1;33m.\u001b[0m\u001b[0mfit\u001b[0m\u001b[1;33m(\u001b[0m\u001b[0mX\u001b[0m\u001b[1;33m,\u001b[0m \u001b[0my\u001b[0m\u001b[1;33m,\u001b[0m \u001b[0msample_weight\u001b[0m\u001b[1;33m=\u001b[0m\u001b[0msample_weight\u001b[0m\u001b[1;33m,\u001b[0m \u001b[0mcheck_input\u001b[0m\u001b[1;33m=\u001b[0m\u001b[1;32mFalse\u001b[0m\u001b[1;33m)\u001b[0m\u001b[1;33m\u001b[0m\u001b[1;33m\u001b[0m\u001b[0m\n",
      "\u001b[1;32m~\\Anaconda3\\lib\\site-packages\\sklearn\\tree\\_classes.py\u001b[0m in \u001b[0;36mfit\u001b[1;34m(self, X, y, sample_weight, check_input, X_idx_sorted)\u001b[0m\n\u001b[0;32m   1244\u001b[0m             \u001b[0msample_weight\u001b[0m\u001b[1;33m=\u001b[0m\u001b[0msample_weight\u001b[0m\u001b[1;33m,\u001b[0m\u001b[1;33m\u001b[0m\u001b[1;33m\u001b[0m\u001b[0m\n\u001b[0;32m   1245\u001b[0m             \u001b[0mcheck_input\u001b[0m\u001b[1;33m=\u001b[0m\u001b[0mcheck_input\u001b[0m\u001b[1;33m,\u001b[0m\u001b[1;33m\u001b[0m\u001b[1;33m\u001b[0m\u001b[0m\n\u001b[1;32m-> 1246\u001b[1;33m             X_idx_sorted=X_idx_sorted)\n\u001b[0m\u001b[0;32m   1247\u001b[0m         \u001b[1;32mreturn\u001b[0m \u001b[0mself\u001b[0m\u001b[1;33m\u001b[0m\u001b[1;33m\u001b[0m\u001b[0m\n\u001b[0;32m   1248\u001b[0m \u001b[1;33m\u001b[0m\u001b[0m\n",
      "\u001b[1;32m~\\Anaconda3\\lib\\site-packages\\sklearn\\tree\\_classes.py\u001b[0m in \u001b[0;36mfit\u001b[1;34m(self, X, y, sample_weight, check_input, X_idx_sorted)\u001b[0m\n\u001b[0;32m    373\u001b[0m                                            min_impurity_split)\n\u001b[0;32m    374\u001b[0m \u001b[1;33m\u001b[0m\u001b[0m\n\u001b[1;32m--> 375\u001b[1;33m         \u001b[0mbuilder\u001b[0m\u001b[1;33m.\u001b[0m\u001b[0mbuild\u001b[0m\u001b[1;33m(\u001b[0m\u001b[0mself\u001b[0m\u001b[1;33m.\u001b[0m\u001b[0mtree_\u001b[0m\u001b[1;33m,\u001b[0m \u001b[0mX\u001b[0m\u001b[1;33m,\u001b[0m \u001b[0my\u001b[0m\u001b[1;33m,\u001b[0m \u001b[0msample_weight\u001b[0m\u001b[1;33m,\u001b[0m \u001b[0mX_idx_sorted\u001b[0m\u001b[1;33m)\u001b[0m\u001b[1;33m\u001b[0m\u001b[1;33m\u001b[0m\u001b[0m\n\u001b[0m\u001b[0;32m    376\u001b[0m \u001b[1;33m\u001b[0m\u001b[0m\n\u001b[0;32m    377\u001b[0m         \u001b[1;32mif\u001b[0m \u001b[0mself\u001b[0m\u001b[1;33m.\u001b[0m\u001b[0mn_outputs_\u001b[0m \u001b[1;33m==\u001b[0m \u001b[1;36m1\u001b[0m \u001b[1;32mand\u001b[0m \u001b[0mis_classifier\u001b[0m\u001b[1;33m(\u001b[0m\u001b[0mself\u001b[0m\u001b[1;33m)\u001b[0m\u001b[1;33m:\u001b[0m\u001b[1;33m\u001b[0m\u001b[1;33m\u001b[0m\u001b[0m\n",
      "\u001b[1;31mKeyboardInterrupt\u001b[0m: "
     ]
    }
   ],
   "source": [
    "cross_val_random = np.mean(cross_val_score(forest, X2, Y,cv=10))\n",
    "cross_val_random"
   ]
  },
  {
   "cell_type": "markdown",
   "metadata": {},
   "source": [
    "## Grid Search"
   ]
  },
  {
   "cell_type": "code",
   "execution_count": 65,
   "metadata": {},
   "outputs": [],
   "source": [
    "# normalize= True standardisiert\n",
    "def make_polynomial_regression(alpha=1.0, degree=2):\n",
    "    model = make_pipeline(\n",
    "        PolynomialFeatures(degree=degree, include_bias=False),\n",
    "        Ridge(alpha=alpha, normalize=True, fit_intercept=True)\n",
    "    )\n",
    "    return model"
   ]
  },
  {
   "cell_type": "code",
   "execution_count": 66,
   "metadata": {},
   "outputs": [],
   "source": [
    "# parameter grid für GridSearchCV\n",
    "# Man schreibt erst den Namen des \"steps\" dann den Parameter hinter den Unterstrichen\n",
    "param_grid = {\n",
    "    'polynomialfeatures__degree': np.arange(1, 4),\n",
    "    'ridge__alpha': [10e-4, 10e-3, 10e-2, 10e-1]\n",
    "}"
   ]
  },
  {
   "cell_type": "code",
   "execution_count": 67,
   "metadata": {},
   "outputs": [],
   "source": [
    "\"\"\" Initiating the meta model\n",
    "GridSearchCV\n",
    "The model\n",
    "The parameter Grid\n",
    "\"\"\"\n",
    "meta_model_hp_tuning = GridSearchCV(\n",
    "                    make_polynomial_regression(),\n",
    "                    param_grid=param_grid,\n",
    "                    scoring=\"r2\",\n",
    "                    n_jobs= -1,\n",
    "                    cv=10\n",
    ")"
   ]
  },
  {
   "cell_type": "code",
   "execution_count": 68,
   "metadata": {},
   "outputs": [
    {
     "data": {
      "text/plain": [
       "GridSearchCV(cv=10,\n",
       "             estimator=Pipeline(steps=[('polynomialfeatures',\n",
       "                                        PolynomialFeatures(include_bias=False)),\n",
       "                                       ('ridge', Ridge(normalize=True))]),\n",
       "             n_jobs=-1,\n",
       "             param_grid={'polynomialfeatures__degree': array([1, 2, 3]),\n",
       "                         'ridge__alpha': [0.001, 0.01, 0.1, 1.0]},\n",
       "             scoring='r2')"
      ]
     },
     "execution_count": 68,
     "metadata": {},
     "output_type": "execute_result"
    }
   ],
   "source": [
    "meta_model_hp_tuning.fit(X_train, y_train)"
   ]
  },
  {
   "cell_type": "code",
   "execution_count": 69,
   "metadata": {},
   "outputs": [
    {
     "data": {
      "text/plain": [
       "{'polynomialfeatures__degree': 3, 'ridge__alpha': 0.01}"
      ]
     },
     "execution_count": 69,
     "metadata": {},
     "output_type": "execute_result"
    }
   ],
   "source": [
    "meta_model_hp_tuning.best_params_"
   ]
  },
  {
   "cell_type": "code",
   "execution_count": 70,
   "metadata": {},
   "outputs": [
    {
     "data": {
      "text/plain": [
       "Pipeline(steps=[('polynomialfeatures',\n",
       "                 PolynomialFeatures(degree=3, include_bias=False)),\n",
       "                ('ridge', Ridge(alpha=0.01, normalize=True))])"
      ]
     },
     "execution_count": 70,
     "metadata": {},
     "output_type": "execute_result"
    }
   ],
   "source": [
    "meta_model_hp_tuning.best_estimator_"
   ]
  },
  {
   "cell_type": "code",
   "execution_count": 71,
   "metadata": {},
   "outputs": [
    {
     "data": {
      "text/plain": [
       "array([0.93474469, 0.93404932, 0.91971717, 0.78063571, 0.95807041,\n",
       "       0.95655974, 0.9465352 , 0.8801787 , 0.960039  , 0.96272122,\n",
       "       0.95589755, 0.92390069])"
      ]
     },
     "execution_count": 71,
     "metadata": {},
     "output_type": "execute_result"
    }
   ],
   "source": [
    "meta_model_hp_tuning.cv_results_[\"mean_test_score\"]"
   ]
  },
  {
   "cell_type": "code",
   "execution_count": 72,
   "metadata": {},
   "outputs": [
    {
     "data": {
      "text/plain": [
       "0.9627212232101389"
      ]
     },
     "execution_count": 72,
     "metadata": {},
     "output_type": "execute_result"
    }
   ],
   "source": [
    "meta_model_hp_tuning.cv_results_[\"mean_test_score\"].max()"
   ]
  },
  {
   "cell_type": "code",
   "execution_count": 73,
   "metadata": {},
   "outputs": [
    {
     "name": "stdout",
     "output_type": "stream",
     "text": [
      "GridSearch mit Ridge und mit 10 Merkmalen:\n",
      "\n",
      "Test score:  0.9556964662873364\n",
      "Train score:  0.9568869501540891\n"
     ]
    }
   ],
   "source": [
    "\"\"\" Zum manuellen testen des \"Besten\" Modells (laut GridSearch) \"\"\"\n",
    "best_model = make_pipeline(\n",
    "    PolynomialFeatures(degree=2, include_bias=False),\n",
    "    Ridge(alpha=0.01, normalize=True, fit_intercept=True)\n",
    ")\n",
    "best_model.fit(X_train, y_train)\n",
    "\n",
    "print(\"GridSearch mit Ridge und mit 10 Merkmalen:\")\n",
    "print(\"\")\n",
    "print(\"Test score: \", best_model.score(X_test, y_test))\n",
    "print(\"Train score: \", best_model.score(X_train, y_train))"
   ]
  },
  {
   "cell_type": "markdown",
   "metadata": {},
   "source": [
    "### Kreuzvalidierung nach GridSearch"
   ]
  },
  {
   "cell_type": "code",
   "execution_count": 74,
   "metadata": {},
   "outputs": [],
   "source": [
    "test_score1 = np.mean(cross_val_score(make_polynomial_regression(), X4, Y))"
   ]
  },
  {
   "cell_type": "code",
   "execution_count": 75,
   "metadata": {},
   "outputs": [
    {
     "data": {
      "text/plain": [
       "0.7761159993716913"
      ]
     },
     "execution_count": 75,
     "metadata": {},
     "output_type": "execute_result"
    }
   ],
   "source": [
    "test_score1"
   ]
  },
  {
   "cell_type": "code",
   "execution_count": 76,
   "metadata": {},
   "outputs": [],
   "source": [
    "test_score2 = np.mean(cross_val_score(make_polynomial_regression(alpha=0.1), X4, Y))"
   ]
  },
  {
   "cell_type": "code",
   "execution_count": 77,
   "metadata": {},
   "outputs": [
    {
     "data": {
      "text/plain": [
       "0.9029075062067994"
      ]
     },
     "execution_count": 77,
     "metadata": {},
     "output_type": "execute_result"
    }
   ],
   "source": [
    "test_score2"
   ]
  },
  {
   "cell_type": "code",
   "execution_count": 78,
   "metadata": {},
   "outputs": [],
   "source": [
    "all_results = cross_val_score(meta_model_hp_tuning, X4, Y, cv=10)"
   ]
  },
  {
   "cell_type": "code",
   "execution_count": 79,
   "metadata": {},
   "outputs": [
    {
     "data": {
      "text/plain": [
       "array([0.68277409, 0.95643702, 0.9524737 , 0.94746399, 0.96551019,\n",
       "       0.96009989, 0.95498904, 0.9476582 , 0.85197582, 0.7965465 ])"
      ]
     },
     "execution_count": 79,
     "metadata": {},
     "output_type": "execute_result"
    }
   ],
   "source": [
    "all_results"
   ]
  },
  {
   "cell_type": "code",
   "execution_count": 80,
   "metadata": {},
   "outputs": [],
   "source": [
    "\"\"\" Nested crossvalidation\"\"\"\n",
    "nested_test_score = np.mean(all_results)"
   ]
  },
  {
   "cell_type": "code",
   "execution_count": 81,
   "metadata": {},
   "outputs": [
    {
     "data": {
      "text/plain": [
       "0.9015928434252711"
      ]
     },
     "execution_count": 81,
     "metadata": {},
     "output_type": "execute_result"
    }
   ],
   "source": [
    "nested_test_score"
   ]
  },
  {
   "cell_type": "code",
   "execution_count": null,
   "metadata": {},
   "outputs": [],
   "source": []
  }
 ],
 "metadata": {
  "kernelspec": {
   "display_name": "Python 3",
   "language": "python",
   "name": "python3"
  },
  "language_info": {
   "codemirror_mode": {
    "name": "ipython",
    "version": 3
   },
   "file_extension": ".py",
   "mimetype": "text/x-python",
   "name": "python",
   "nbconvert_exporter": "python",
   "pygments_lexer": "ipython3",
   "version": "3.7.9"
  },
  "toc": {
   "base_numbering": 1,
   "nav_menu": {},
   "number_sections": true,
   "sideBar": true,
   "skip_h1_title": false,
   "title_cell": "Table of Contents",
   "title_sidebar": "Contents",
   "toc_cell": false,
   "toc_position": {},
   "toc_section_display": true,
   "toc_window_display": false
  }
 },
 "nbformat": 4,
 "nbformat_minor": 4
}
